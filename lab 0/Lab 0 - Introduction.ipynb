{
  "cells": [
    {
      "attachments": {},
      "cell_type": "markdown",
      "metadata": {
        "deletable": false,
        "editable": false,
        "nbgrader": {
          "cell_type": "markdown",
          "checksum": "f2c9d4cbc93602549659489e464022ee",
          "grade": false,
          "grade_id": "cell-2c3df5f023eb0c87",
          "locked": true,
          "schema_version": 3,
          "solution": false,
          "task": false
        }
      },
      "source": [
        "# CS448 - Lab 0: An Introduction"
      ]
    },
    {
      "attachments": {},
      "cell_type": "markdown",
      "metadata": {
        "ExecuteTime": {
          "end_time": "2020-01-21T20:36:10.006041Z",
          "start_time": "2020-01-21T20:36:09.985173Z"
        },
        "deletable": false,
        "editable": false,
        "nbgrader": {
          "cell_type": "markdown",
          "checksum": "ea1bd641a2aa00831935deed2108ca94",
          "grade": false,
          "grade_id": "cell-0a9bdfef2507f45a",
          "locked": true,
          "schema_version": 3,
          "solution": false,
          "task": false
        }
      },
      "source": [
        "Below you will find a series of tasks that will help you get started with audio processing using Python. We will start with learning how to generate test sounds, how to read/write audio files, how to perform simple waveform editing and finally how to use real time audio I/O. Look at the provided hints and try to figure out how to do these tasks on your own. The instructions are intentionally vague so that you practice your problem solving. If you get stuck, talk to me or our TAs for more hints. Make sure that any necessary soundfiles are inside a subdirectory called \"data\" at the same file location as your notebook.\n",
        "\n",
        "Have fun!"
      ]
    },
    {
      "cell_type": "markdown",
      "metadata": {
        "deletable": false,
        "editable": false,
        "nbgrader": {
          "cell_type": "markdown",
          "checksum": "ba4008f98333f26875374d047af95940",
          "grade": false,
          "grade_id": "cell-ed2e648ceb337ab5",
          "locked": true,
          "schema_version": 3,
          "solution": false,
          "task": false
        }
      },
      "source": [
        "## Exercise 1. Generating and playing basic sounds"
      ]
    },
    {
      "attachments": {},
      "cell_type": "markdown",
      "metadata": {
        "deletable": false,
        "editable": false,
        "nbgrader": {
          "cell_type": "markdown",
          "checksum": "f459255826639cbee00713a79c70dd31",
          "grade": false,
          "grade_id": "cell-456801c2f60a89e2",
          "locked": true,
          "schema_version": 3,
          "solution": false,
          "task": false
        }
      },
      "source": [
        "It is important to be able to generate multiple types of test sounds to test various parts of an audio processing chain. Some of the most important ones are sinusoids, chirps, and certain types of noise. For this exercise you need to generate the following test signals, at a sampling rate of 8kHz and for a duration of a second. Plot them if you like and see if they look right. You will probably have to zoom into the plots to check these waveforms. Also, play these sounds from your computer’s speakers (IMPORTANT: Turn your computer’s volume down, some of these sounds will be loud!)\n",
        "\n",
        "Useful numpy functions: ```random.randn```, ```sin```, ```linspace```, ```logspace```, ```fromfile```\n"
      ]
    },
    {
      "attachments": {},
      "cell_type": "markdown",
      "metadata": {
        "deletable": false,
        "editable": false,
        "nbgrader": {
          "cell_type": "markdown",
          "checksum": "76f508316e804aad870a4a886d2821a5",
          "grade": false,
          "grade_id": "cell-875e787ce7139a7e",
          "locked": true,
          "schema_version": 3,
          "solution": false,
          "task": false
        }
      },
      "source": [
        "This function can help you play a sound from a notebook. The ```rate``` parameter is the *sampling rate*, i.e. how many sound samples to play per second (so if you give this function an array of length 8000 and use a rate of 8000, it will play a sound for one second). We will be talking more about this parameter during the next lecture, but for now this should be enough info to get you going."
      ]
    },
    {
      "cell_type": "code",
      "execution_count": 1,
      "metadata": {
        "ExecuteTime": {
          "end_time": "2020-01-23T04:50:58.068787Z",
          "start_time": "2020-01-23T04:50:58.056784Z"
        },
        "deletable": false,
        "editable": false,
        "nbgrader": {
          "cell_type": "code",
          "checksum": "6e0734d24b35c0313e2f0079ba645bef",
          "grade": false,
          "grade_id": "cell-11bbb4202e05c2b7",
          "locked": true,
          "schema_version": 3,
          "solution": false,
          "task": false
        }
      },
      "outputs": [],
      "source": [
        "# Make a sound player function that plays array \"x\" with a sample rate \"rate\", and labels it with \"label\"\n",
        "def sound(x, rate=8000, label=''):\n",
        "    from IPython.display import display, Audio, HTML\n",
        "    display(\n",
        "        HTML('<style> table, th, td {border: 0px; }</style> <table><tr><td>' +\n",
        "             label + '</td><td>' + Audio(x, rate=rate)._repr_html_()[3:] +\n",
        "             '</td></tr></table>'))\n"
      ]
    },
    {
      "cell_type": "markdown",
      "metadata": {
        "deletable": false,
        "editable": false,
        "nbgrader": {
          "cell_type": "markdown",
          "checksum": "c9e5f947a4c4cb8c47217bb420c46f07",
          "grade": false,
          "grade_id": "cell-ccc8e3094d0ec7f2",
          "locked": true,
          "schema_version": 3,
          "solution": false,
          "task": false
        }
      },
      "source": [
        "Let's start by generating white noise. Complete the code below for it."
      ]
    },
    {
      "cell_type": "code",
      "execution_count": 2,
      "metadata": {
        "ExecuteTime": {
          "end_time": "2020-01-23T04:50:59.146290Z",
          "start_time": "2020-01-23T04:50:59.131457Z"
        },
        "deletable": false,
        "nbgrader": {
          "cell_type": "code",
          "checksum": "11bc2ab6b0a300b1a93d6ae1ad62ec8e",
          "grade": true,
          "grade_id": "cell-dc219b6d3edff5e6",
          "locked": false,
          "points": 3,
          "schema_version": 3,
          "solution": true,
          "task": false
        }
      },
      "outputs": [
        {
          "data": {
            "text/html": [
              "<style> table, th, td {border: 0px; }</style> <table><tr><td>Noise</td><td>              <audio  controls=\"controls\" >\n",
              "                    <source src=\"data:audio/wav;base64,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\" type=\"audio/wav\" />\n",
              "                    Your browser does not support the audio element.\n",
              "                </audio>\n",
              "              </td></tr></table>"
            ],
            "text/plain": [
              "<IPython.core.display.HTML object>"
            ]
          },
          "metadata": {},
          "output_type": "display_data"
        }
      ],
      "source": [
        "# Function that returns noise samples\n",
        "import numpy as np\n",
        "\n",
        "\n",
        "def make_noise(duration=1, sample_rate=8000):\n",
        "    noise = [np.random.randn() for i in range(sample_rate * duration)]\n",
        "    return noise, sample_rate\n",
        "\n",
        "\n",
        "# Generate it\n",
        "x, sr = make_noise()\n",
        "\n",
        "# Play the generated sound\n",
        "sound(x, rate=sr, label='Noise')\n"
      ]
    },
    {
      "cell_type": "markdown",
      "metadata": {
        "deletable": false,
        "editable": false,
        "nbgrader": {
          "cell_type": "markdown",
          "checksum": "046134fe8fbb5abb9c576880c46cca5c",
          "grade": false,
          "grade_id": "cell-7510e1505b57f324",
          "locked": true,
          "schema_version": 3,
          "solution": false,
          "task": false
        }
      },
      "source": [
        "Generate a sinusoid with a frequency of 440 Hz"
      ]
    },
    {
      "cell_type": "code",
      "execution_count": 4,
      "metadata": {
        "ExecuteTime": {
          "end_time": "2020-01-23T04:51:18.504526Z",
          "start_time": "2020-01-23T04:51:18.485099Z"
        },
        "deletable": false,
        "nbgrader": {
          "cell_type": "code",
          "checksum": "e64a50cf1a9f884cb09670206f1f18c9",
          "grade": true,
          "grade_id": "cell-091f5777b97828b9",
          "locked": false,
          "points": 3,
          "schema_version": 3,
          "solution": true,
          "task": false
        }
      },
      "outputs": [
        {
          "data": {
            "text/html": [
              "<style> table, th, td {border: 0px; }</style> <table><tr><td>440Hz tone</td><td>              <audio  controls=\"controls\" >\n",
              "                    <source src=\"data:audio/wav;base64,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\" type=\"audio/wav\" />\n",
              "                    Your browser does not support the audio element.\n",
              "                </audio>\n",
              "              </td></tr></table>"
            ],
            "text/plain": [
              "<IPython.core.display.HTML object>"
            ]
          },
          "metadata": {},
          "output_type": "display_data"
        }
      ],
      "source": [
        "# Function that returns a sinusoid\n",
        "import numpy as np\n",
        "\n",
        "\n",
        "def make_sine(frequency=440, duration=1, sample_rate=8000):\n",
        "    samples = np.arange(duration * sample_rate) / sample_rate\n",
        "    sine = np.sin(2 * np.pi * frequency * samples)\n",
        "\n",
        "    return sine, sample_rate\n",
        "\n",
        "\n",
        "# Generate it\n",
        "x, sr = make_sine()\n",
        "\n",
        "# Play the generated sound\n",
        "sound(x, rate=sr, label='440Hz tone')\n"
      ]
    },
    {
      "cell_type": "markdown",
      "metadata": {
        "deletable": false,
        "editable": false,
        "nbgrader": {
          "cell_type": "markdown",
          "checksum": "920916bd838abb8043d88c8f09110c7d",
          "grade": false,
          "grade_id": "cell-2b18a6af9c6f2d41",
          "locked": true,
          "schema_version": 3,
          "solution": false,
          "task": false
        }
      },
      "source": [
        "Generate a \"linear chirp\" from 0 Hz to 4 kHz (do not use a chirp function, write the code yourself). What is a chirp you ask? I don't know, google it ..."
      ]
    },
    {
      "cell_type": "code",
      "execution_count": 5,
      "metadata": {
        "ExecuteTime": {
          "end_time": "2020-01-23T04:51:31.872587Z",
          "start_time": "2020-01-23T04:51:31.847794Z"
        },
        "deletable": false,
        "nbgrader": {
          "cell_type": "code",
          "checksum": "17ccaed2306fa1e0c93ba55d8efcd197",
          "grade": true,
          "grade_id": "cell-9e585072fe1d0fd4",
          "locked": false,
          "points": 3,
          "schema_version": 3,
          "solution": true,
          "task": false
        }
      },
      "outputs": [
        {
          "data": {
            "text/html": [
              "<style> table, th, td {border: 0px; }</style> <table><tr><td>Chirp</td><td>              <audio  controls=\"controls\" >\n",
              "                    <source src=\"data:audio/wav;base64,UklGRqQ+AABXQVZFZm10IBAAAAABAAEAQB8AAIA+AAACABAAZGF0YYA+AAAAAAYAGQA5AGYAoADnADsBmwEJAoMCCgOeAz8E7QSnBW4GQgcjCBEJCwoSCyYMRg1yDqwP8RBDEqETCxWBFgMYkRkqG88cfx46IAAi0COrJZAnfil2K3ctgC+SMawzzjX2NyU6WTyTPtJAFUNcRaVH8Uk+TItO2FAkU25VtVf4WTZcb16gYMhi6GT9ZgZpAmvwbM9unXBYcgB0knUPd3N4vnnuegJ8+HzPfYZ+Gn+Kf9Z/+3/4f8x/dX/zfkR+Zn1ZfBx7rnkOeDp2M3T4cYhv42wJavlmtGM6YItcqFiRVEdQzEsgR0VCPD0HOKkyIi13J6khuxuwFYwPUQkEA6n8QvbV72Xp+OKT3DnW8M++yafDsL3gtzuyyKyLp4uizJ1UmSiVTpHLjaOK3Id6hYGD9YHZgDKAAoBLgBCBUoIThFKGEIlNjAeQPZTsmBKeqqOxqSKw97YqvrPFjc2t1Q3eoeZi70T4OwE+CkITORwXJdEtWjakPqVGTk6VVWxcyGKfaORtj3KVdu15kXx5fp9//n+Uf11+WHyGeeh1gnFXbG9m0F+DWJJQC0j4Pmo1cCsaIXsWpQutAKj1qerG3xbVrcqjwAy3/q2MpcydzpakkF+LDYe5g2+BN4AXgBOBLINihrCKEJB6luCdNaZpr2a5GMRnzznbcuf086AAWQ38GWkmfzIdPiRJc1PtXHZl9GxPc3N4TXzQfu9/pH/rfcd6OnZQcBVpm2D5VkhMpkA0NBUncRlyC0P9D+8E4VDTIMahuf6tX6PqmcORCIvVhT6CVIAjgLCB+YT3iZ6Q2ZiPoqCt57k6x2rVReSU8x0DqRL6IdQw/j4+TF5YKmN2bBh07Xnafcl/r3+GfVN5InMJayZhnlWfSF46FSsFG3IKpfnn6IPYxMjyuVOsKKCslRONioY0giqAe4ArgzGIfI/smFmkjrFPwFbQVeH68u0E1BZTKBE5tEjrVmdj5G0mdv17RX/nf9l9IXnVcRVoE1wMTko+Iy3yGh0IDvUw4vDPub7xrvagHZWyi/CEBYENgBaCF4f5jpGZpKbltfvGftn+7AEBCxWcKDc7YkysW65oD3OGet1+8n+2fTN4iG/pY55VBUWLMqse6wnb9AvgDcxxubuoZ5rejniGd4EGgDWC+4c0kaKd76yuvl/ScudK/UITtSj+PH5PpV/wbPV2XX3yf5h+U3lGcLRj+1OUQRAtExdNAHjpUNONvt6r45snjxmGDIEzgJqDLYuwlsil9begzBjjmfpWEn4pQT/bUphj3XAreil/on+LewFzTGbcVUVCNyx/FPv7j+MlzJ22yqNjlASJIYIEgMmCXIp6lrKmaLrf0DnpgwLBG/MzIEpkXfRsKniNftN/53vqcjNlTFPrPe4lUgwn8oPYfMAYq0SZyIs8gwaAUoIOiuuWYqi2vfzVKPASC4wlZj6DVN5moXQkff5/Bn1WdExmhlPcPFUjHQh57LHRC7mzo7GS2obGgMeA5YbdkiOk57kg05bu8grSJtJAp1cpamV3q36Ufw16VG76XNpGEC3rENrzXdfwvPWlpZP8hquAEIEviK+V4ajEwBfcZfkZF5szWU3pYhdz+Hz5f+d78nCtXwlJQy7YEG7yu9RxuSGiJpCPhA2A7YIOjeCdcrR5z2TtcgzSKrVGb16QcP17/n9MfBZxAl8gR94q8gs/7LbNPLKHmwiLzYFygBeHWpVdqtTEGOM+AzwjBEGqWoFuOnv5f2Z8snCZXVJEgiYbBkHlIMbQqiiVo4ZDgH+CO43Gn+W46tbK90UZETn2VAJrpnnUfxN9i3ECXs9DxyQXAyPhVsH6pQuREYQGgD+FZJN4qefFoeZECUUrIEqIY5J14H61fgp1j2KfSCkpiAZd41PC9aV1kIGDIoClhpOWuq5AzcjvoRP8NSJUq2uyev5/F3tXbONUlDbUE2/vVMxgrR2VjoUDgPmEE5QdrCLLlu6HE+U2tlVfbdx76H8keRVoJk6DLfEIj+OSwAKjcY3IgROBbIv5n/W839+nBf0qkExkZw15739ie8Nrb1KkMVIM2OWwwSmjE417gXyBIY1joz3C2ubZDZozllSvbYR8pH+5do9iBUXiIJL50tJZsH2V24QXgLKH/JoguE/cBQRkK4tOAWoJe+h/GXhVZIpGqSFe+bHRoa69k8WDYoD3iZefF79H5T8OzTXbV9xwM35wfoJxtliaNrkOQeWNvrieKIkwgM+Ek5ajs+vYcAK+K2BQW2ydfFh/M3RaXF468BF+57O/957xiB2AgYWRmDa3Dd69CH8ym1b1cIl+wH2lbuVSoS0XAyfYwbFZlF2D0YAOjbKmysoo9dYgtEgNaCV7r38UdYtc9DiGDk/inLlUmWKFOoCHihij+8ba8X8edUezZzp7mH82dG9aajW4CcTcKrQBlTqDHYH5jh2rBdLM/sQrOFMYcKt+Bn1Ta8xLdiKh9DnIAqPaiRKA/obDnXLBZO3UG6VGKGjkey9/i3G9VJIsZf5i0Luo0IxugE+F2ZopvnzqyhmdRe9nAnwGf4Rwb1LmKKX5OssfpNCJBoAviDKhlsf79dYlYFCLb91+HHydZ0JEExeI5py5zpYvg6OBcpI3szffCxCTPvljtHpif0NxYFJAJ0L2qsaTn9qGPoDKjKqqatWiBuU2416EeNd/sHPcVd4qRfmnyIKgDYdBgDuNBazk1wsKrjowYlt6WH9QcJNPPiJ17z6/RJmZg7yBCZSgt9rmKBpOSa1shn7pezNlBz65DE3ZJ6yxjB2Ai4ilpNjPCgPINaVfpnlrf/Bvuk15HhHqS7ljlJuBLYS3m0vED/dkK11YRnb1f7BzhlPyJPXvsL3dlj6CdoNfmgjDYvZ2K/dY33bgf1Vyk1CFIKnqi7gakwyBqYUsoOTLAQH8NUhhC3uQfiZrQkTrEHTay6quigiA3ozirt/f0xadSc9uen93eAVbkizC9dDArJcYgjGEop2syQYAazaHYu97wH2RZ5E9vQdi0CGi6oU4gQWVir368v0qr1q+eEJ/42wrRdgPXtfXptyHmYCNkji6yO+cKGVZX3hNf7psUkQmDhbVoaSZhh2BWpVEv2L2gC/5XhB7+H0IZ+c6nQK+yQic94LLg2meV83bBv4+AWrcfiJ59FnTJ0TtnbZwjxKA1YtKsL7l1SD2VPR2fH+pbHZC6wkyz/ees4NagxKeGs4KCQ1CrWyKf3V2WlPjHczhU6xOiYuACZSGv2X5xjRtZKl9x3paXCkprOx9tE+NCIC5j+W4QfLHLrBgkXz8ewJfNyw87w+24o0FgL2PdrmU858wZmJIffJ63VtAJ2bpzrDNimKAE5RLwWP9JDojaSl/6XZIUvYZZNuMpWKFrYImnj/Rqw9aSg9z3n+bbaZA5QMmxoGWq4AOim2waerBKdZehHxie6dbJCVa5Ses1oeEgdmajM3yDCNJ9XLSf2lskT0Z/9DAiZIVgDeOZrmo9lk2J2hAf6R1uk29ESHRmZzIgbKH4Ky35+wofl8kfQ169VYBHWTbX6O+g+mEpKYR4AAi81q8e5N7b1oaIeDeeqVXhG2Ex6V73wAiX1sKfBd7tlguHmTbi6Ivg/OFKKrx5ewosGDafU54glEgFCHRGJsSgVyKcrSn81k24WnCf8lx0EO3AtDAtJAJgJeT58W9CCNJwHQZfydlQy4X6iesQoZag1mkzN+VJNZeqX0OeJNP7A+Yy4GWMoBCj1q/cALaRA9zZ38tZsEueenQqmKFWYQXqArmxCt5ZCl/yXOtRZ0Cub5yjmKA2ZiF0JoW4VUee/J6V1WwFWHP5Jc9gL2PtcHbBvFJRnYhfgJfdiIz21Cfb4HsiuW4Fv05QrFyQn/pYykpbuFJo1eCEIlntWX5hD+FcXV/1GQKKszhKqM0gouJ57bH+w1CF3MGf+5hJCVJ3PeeIIGHjIq9PwSdSfR2Yn24WkIaIdFhlxKA9JLhybwSblXVeyJ5Jk4eCQLB4o3ggGmeq9zRJvhjhn8hcOc6wfFgrfCENIbSsGL2QT+dcuN+0F/vHxbV6ZgbgEaT5MuBFmVZbX0QdshFQ/2mtdyH5IM1qyjwrjq1cEJ/JmHiIATVPpgKgAWV2M/BG99ds36DcpE9p/J1rBGE+4fitgYAM0kbeM975VIMDNDAY4zOgfukOenHNc9ufH+oYSEg0tIClgiAB5nk14wlamXmfyZrwS4E4bmegYCpkeTLkRnAXfR+snA7OKnqDaWWgauN1MRWEvZY/n1Yc/g8b+8lqD6CN4xZwgsQp1fBfbBzPD0876OnBoL0jEvEvBL4WWV+0nELORHqlKMSgRCQyspaGqVfen9LbSgwC+B5nB2APJYt1rMm72f5fzNlKyKB0VOTe4CToNrmPDeFcUR+Rli/Dj+/0IkThG2wAv3XSlt6M3gsRfX1y6pcgjuNDMc2GH5fn39Ua98quti8limAaZ4O5eU2A3LTfVdVUQlhudqG5YaRub4J4VUHfkNx3jQw4gicBIANmjffSjIYcF1+9VaMCpy5o4Zvh767RQ0pWd1+I24TLiragZZLgDKhFOsMPjB2HHuZSqX5aqv9gXyPGs6OIu9n03+uX4QV3cGBiU+FNrdECURXs34JbpIsS9cQlNGANaan86RGHHr5do4+EephnxKAS5pV4sc3GHT8e8xLRfnAqVWBcpJk1cQrPW5wfuNUgAQEsjuDq42gzDsjqmlxf29apgtxt8aELYvEx38eF2fAf+hcuQ6huWKFeoqexrAd3ma/f4tcwA1wuNuEbIsgydUgBmlrf09Ztwjxs12DN45nz9knRG1hfuVSmv91rHeBZJOv2X8y9XLae8pIbvKcoh2Ax5s86E1ADXm5dl46b+Ftl6iAYqgt+2BQC36cbRUnOs1ujM6EOLpDEkdh/H8GX7kODLe+g36OBdKYLNxwinytScHx9qADgJef2+9PSDt8Q3HhLLHR/Y06hHa5qBJiYuh/E1weCXWxBoI4k07cxzeUdk54+Tun4H6VaIHirm4Gr1rcf49i8BHwt3yDB5Aa15ozH3VDecQ9zOGslXyB9a+qCNZc+39tX1MMp7L9gT2UzN+GPAx5CnWLMgTVcI6jhPW8RRkNaO1+glEq+AKjAoAlog/32FDcfhVoxxj6uyWEvI+J2OU2UHeGdt40OdZyjvmEF7/uHOJq+H2TS2/vaJxygB2r2QTvW/5/6VwbBt+rgYBInMjvYkxFfm1pchkmu4GD3ZE+3qw9W3r4cSkpCskAiPaKVdDOMJJ1dndNNbvU0IyrhufFaSb1cMF6GD683QuRMYSuvtweRG2QfNBDyOMQlO2CaLpaGgJrYn2wRrvmfpV6guW4+Rh0aoF920aJ5iiVrYISur8aqmv3fFNEMeMak5qD/b2kH4Fuk3v5PsXcko+QhdTEjyedcul4lDZp0wmLF4nYzkoyZXdWdN8qacc4huqOTtxuP/17DG2cG0y5IYLnl2TtTk5AfyBitwjrqQ2A+6QIAt5dw3+vUm7yipqEgfe2yRmfbOd7Bz542emMMYhbzpozk3gBcukjP788g6+VFOuwTVV/nGDTBPalDoA1qyUMamVIfttGUOKlkPOFJsloL2V3AXPzJC6/94IIl5XuXlHLf91bqfyTn8eAQ7TNGE5t8nrGOLHRsIhSjavcFUPBfUxm8wvAqQKAKKqlDN5mgX2VQXTaCYwVivzVrD2dfBVp7A8srAaA4airC7xmZn16QIPY4YqCixHaDULPfTNlpAg/pi2AIrDpFfRsf3pNNQ7M6oVukjnpfk/Tf09ZCfaCmcmCcsHSKvt20nHEHp62u4AlogUEKmMhfkVCutg7iv+MNt8gSCl/JV7b+2icFoJDv34p33ZzcekcKrRcgMelWAqzZ2Z81TmkzhmGRZP+7CFU/H+HUXnpTpFvh+/SZj6kfbRj6gIGoGiB9bxTKPR2qXDXGYKwDYBDq0ETdm0ReaEtV8EjgqKdGQCGYst9GD5v0XiGl5Nh70RXw39VSwvgAYyHjFXhkEzcf59VrOzakcyH/NUQQ91+U10J91OXzoQ/zTc7bX3RYgD/5JsJg/rGUjUKfG9mgAQunxaCCMOSMRB7b2iKB/agsIFKwQ8wtHr4aB0IHaG1gbXB1DAJexVoOwagnyeCS8TbM/17tWXjAZmcLIMgyRA5XX2oYRT7PpgMhVXQTUDPfqhb1PHnkjGIEdpNSdZ/W1M95hONIY115q1TzH9gSIPYbYd4lI711l7sfV46CsnMgtmeQgf+aVN5FylwuDeA4Kw9Gxh0FnGAFKOn2IABv9Qw23tVZOP85JfshWrV9UbLf2BS+eLNip6Q2+8XXFB+6DoLyD6C26F4DT1u6HUuHv6tOoASuq8sC3tmZUT9U5elhurYG0v+f0lMK9r8huuWAv2VZcd6FSvxtxGAjrG3I3N4xGmyA4uaT4Wt1SNJ+n+bTJfZeIZvmKAAVGgRecgkwrEXgGa50C3keyBiCfZHkrCKvuXrVu1++Ttrxm+BWKc1GKF0VG6MCsydWYTm0/RI/n8bShbVnYRgnVcKgW42dHwWe6UDgpXKBEGkf5NQMNyZhpGZ2QT6a+h19hmMp6OBJsk2QJ9/SFAz2xOG/JrVB+RtK3QYFZSjyYJ5z6RG/H8vSTDSXYP+oUETnXM6br0HZ5qrhgzeclMZf0063sF0gCKwsibueu9h1fFPjgeQjvVsZK55PiIsrBCBlserQM5/SUxC1IGDraLVFVx1JmtNACiVeooD6nVdWHycKjyyXoBYwlk8hn+0TjrWxYOPopoWC3anaan8spLKjHTwZmIUeqohSqq1gVfNpUf1f0VCacfIgLiv6yhHfIxcB+ekiAeZEAm1cIhviQZtl8aJaeo5Xx176iMZq7yBqM7bScx/xD2xwSqA5rZ5MoZ+TFN52f6DqqOmGnN4OWQI8QGMBJWdA89uqXBQB/qWsIpC7shiAnmcG8qjLIQg225V2X2DLXWx2IB+yqVH13/cPC6/BIBsvCQ6rH+tSVTMBYHSsHYt/n0dVHHYO4N9p/8hY3toXDLjGYYsoAMYX3jRYmDsKImZmqsPXHWdZ9vzCYyElhAJsXIKa5L5cI6zkz4EnHBMbX79J5D3kToBS2+Ibpr/C5E0kQUA2G7Wbuf/C5FbkaAAS286bmX+J5BukgkDnHCqbBT7cI6ClEIHsXIJavb1CYy6l0UNXHUuZhDvKIlHnAoVX3jfYHDmGYZnon4eY3vdWTHcO4Ncqn0p/n3jUIDQBYFttM01rH+uRafDBIDVwBVD138IOBC22IDAz9hQ2X3UJ0uoLIQ84W5eAnkZFRmbsIon9QJrqXAUAGSPBJUkC5J1OWRG6UKGqqOOIvh8TFOC0eaA5rZjOvt/xD3zuYuAqM5KUWZ96iMfpFKGaeqVZTN0iQbakR2TEAlSdbVjB+cohVin6yh5fs1LaccIgMPCpUcgfyMtSqo5hETkZWLNdVIJspLdkr0JC3bNYfnixYMdrA8whn+UQ7G9XoDYzjdTWHwCHcydeopj+LJuJmuO8dyHraKCJAt+SUwnxgKAlsevTa59PyLHoBCJjvWvbcNr1fGqh6qjsiaNfgpJ3sErgIzNclPae18ZZ5p8jToBnXP1Y8jjXYNor1k2/H8dObKxyYKG4chiK3TjAXKN/Jo8G5F8SFCnyAKAJsnTUFh89xnrmX6O2ASuddBfMdyWgfW3BEFxf3Ere6Wjh1r0gW5QaarqnYQHrVI1/n+aNv6tWYQD6jJpVG5b8w2HV6fGLsl/+jtBsiyDvuX8ZvBvCfbEhzWm0C3Cf+g7wrFwg3HnVGiIbqjyeIZ4qX8y+n9mNo6sT4Uo7/NsxWlH6bODjbGGPKR/FitJo8aJAv3Uc5xgK9ragFm/GksYfXIZU5eMkvAQC3uHUSHGOoDm06Fc6HU1AQmL26FAKqx/6DrxrvmE2u9Nbidn+eL5gea59EbTfbwb5Je+kqgS23sNTgPB2ID+2ypjFnGi9BOG4KyUOa9/FykGoN2MQQe+eJ9VCskqgOrU1l6zc6b5bYdOqjw3zH8LKiigIY2pCHV5W1OdxXuAEdrpYoRw1fHNhI2xTEC1fqwePpiyk9MWXX2wRky3LIPf6+RttWWF3buAS8QkUyJ5PAZyi+2j0zD7fyMtHaFRjfEKtHq1Trq+sIFG5eJqb2jy4AWBB8PaUul4gARSiqOmUjXAf4Mm5JupkQoVbX2qRJ+zzoSN9A5zU11Ezw6A+9UwYohvrOzMgvq6kEz0euwJAYylpPIzw390JWial5P7GYh+GT6irPuHGAAbeBJTV8GfgXHndm31Y0zXDYDe0KRfqXBy7aOC9bymT1N56wKkiASsZj5IfhQXT5Emnq8s/H95KeSbRZMpG/R+1Tm2py2LVwq8ewtIKrSQhZj633YeVMDAFoIr7NxwJV4LzV6ANt8pak1mu9gIgMjTKmPIbJDju4DgyTZc0nFf7SKCccGUVaV1Cfbxg2i6fU94eH796oWrtB9Kf3qyA9aHIbCcRed7pQiJibSsDULVfFMM4opOqoM/Zn3ADsiL4KgMPq597A8sjGGorD22fdkPCYzNqGY+gX2HDmCLKKo2QAZ98ws7inmsFUM1fB4IsIjRr/RG8noFA9uGQ7TBSxx5qvzihOa5XlGGdg/194LUwKdXAXNA7FWBJclqXlRuUOJDgO/SaWVGaF7XDoA93lpsnGCZyxCBFOvhciBXP7+mg2T5k3ijS6iyMYgJCfh8CD4/pg6PyRmMf0Qui5qQmEQrw39sHCeQ+qT9PBN9uAjEh3G0TU76do/zIoL0xm5eDG2F3QKATtx2bAJfaccfgg30ZXfKTDyyF4l4DTN+lTYvn1mVjifgf+kcko8NpwNBk3uuAMaE/L1KWLJwMuMbgH3ZqmsHXyHGrYJj+F1520Z+qzuN+Ri4fxcpfpX4nxA5Y31QB1qGaLoVVotxyeMVgDjbRG0lXFfBMYQ4AO97GT48o2STaCbSf2AZ0IxQrR9KdncI8SCBVdBjZ5BiCsl2gnf5W3pLQval3ZGCJN5/cxlvjLmuYUwRdmDsgYCH1qpr6VykwOmE2ARnfZU2aZxemqsz+H2KB4+FFr8WXO1rOtaegJXuUHewSEuqvI/4Ieh/yBhyi9qx11AMc5DjAoBU4o5yglFCsmyLRBnyfyIgcI4VrZBMCnWA5xGAy9+xcXBSqLKBiyca+3/kHRSN9K8PUN9yzeEIgNnmHnWjS2urB5CVJKR/8REAiPq6rlp+a9PSaIHI9yV7+jsCnvyaxjdMfPz7BoK/zwFqFFz7u+eHqBLDf6oh/Y3Rr15RRHGU3GKA2u8deepA9qD3mMw1inzc+82BBNL6a7dYDbeHir4a/H9mFymJN7qrW21pO83ogm4CC34ULqaTYajWSjR0b+EqgA/uDHmyP/iexptkO396b/JugAve9XKcTGapZJOQLsB9m/8Ygl7SRG1rVcKxN44WJS9/uAjxg8nKBWm5Wk23bItYH69/wQ0ohQvH3mb7XJ25eoqEHcd/ug5OhfrGF2doXIy4LYujH5h/pwtYhJXKqmnzWCu0qo2qJeN+gASZggTSPG5IUsmscZJnLwd9RvnIgIndGHThRwOjS5p1PAN5EuoEgGPtHHodOdmXNaYOTItxTNfOgZoBs351JdCMNbfsXChl3sH5h8gZ03+6DP6DGc4YbXBSa6t3lMU0HXt27waAE+vfeWs4gpYGqV9QI25Fz+SDRA3mfxQXo4adxjFp9VYur3GSSTKLe/bvBIDE7LR63zS+k5+t4FWoaavG5IbMGMJ/Ugm4gmnVA3KwSB2haJ5bRbFzu9gfgroGn38QGg2HC8d0avxTzKqElq06NHhe46iAAf2cfj8i0InDwLtmR1i2rgiUOzdDednle4DG+4V+LSKJifjB72dQViisO5ZkO3Z3DOA4gQkDen/YGVqGycq5bbtNlaPCnbRG0nFI0iyEuxLnf/IIBoL920Z2PT28lnmsplf0ZbG9Now/Kop8cO8NgGH2/X03IyGJ08T+apRQDqVgnXRHs3CkzqiFkBlNfwH/gYCZ6Ap7wi7Mjb27aWUzV8yqBpk4QiNz09KjhNIWfX8UAIaAOOlxe5MsZIwyv1Ro5lL7paGdMknWbpbJ+4dDIsB9qfIJgEL4s35sHOqF189XcndCP5gVra5aJ2F+tByTrTrrdV/X5IPVFWd/Rf0wgMfvbH2iIqGH48vZcFNE6ZgHrV5b0V8EslmVQD9Yc4HQNIYNH/h9wvEjgGL9hn89E/eCqtyEeKoy440AvwFqJ06hnwumbVVKZJ629JJ0PCx0I9FhhtQgY31y7YOAPQT2f+wJIIE66E18JSWqhxnOFnPsPVST5rY2ZVtTKqNio6xT1WQltgiUgz8BcjvLEIm/Kcd6cOF2glMTQn/e9wiAFf24f8ENb4G255F8dyI5hsfTRnaDNeONtMFfbYtG5ZfFsWViWFW0oyKk4FXOYc+w2JhOSO1ru77ejyM6ynMMzReJwyuGeWbbWYSDHVN9eulvgaoPZ38K9yKAbgL+f+YDMoD69VV/7Q9lgWjqqX0GG32Dy98zeyUlQoYr1ip4RC6CiYvNwHRnNguN5cUhcZI9tZAyv3Zt0UNalGW54GkvSdmXcbR9ZrxNGZtJsGZjg1ECnt+sr2CSVIOgJ6ppXvZWjKIWqKBct1gSpKOmXlveWQ6lxqWpWnBae6V+pYVacFpXpcal8lreWaKko6buW7dYYKMWqHRd9laXoSeqfV+SVFGf36z+YYNRmpxJsOdkvE2DmXG0J2gvSSCWZbmma9FDipIyv0tvkj3fjuXF9XJnNkCLi81+dkUu1ocr1r15JSXNhMvfg3wGG1eCaOqbfu0Pq4D69c5/5gMCgG4C3n8L95mAqg+RfnrprYKDHad7Ztt6hsMr6XYMzTaMIzoicLu+EpROSChnz7AynuBV3lu0o6iqZWI7TuWXdblebUw+4419ykZ2OSw5hondkXxKGG+BP/K4f+wCCIAhCEJ/rex2gpAex3pB1hCJxTQBcn3ACJTbSdVkVKxio9VcW1PKmua2rGzsPeqMGc5WeCUls4M66OB+7QkKgD0EfX9y7Z2C1CCfeSPR1It0PAxtn7a2m21V9Vmhn9mxAWoAQeONVs2EeFYj94LD7IZ/ngIjgD0O+H3z4DSGfy9Yc8DAWZX7TdFfoqQGrRdnVEQnj+LLX3ijIpSCxu/Qf0X9mYDUFRx8X9cViqw65Gx+tNmerlrrUj+YiL1Xcikw6oWU47N+vgcJgFcNwH2+3fuHaTbWbs62oZ0FWuZSrZcyv5xzlCyPhDfpen8VAIOA0hZde9PS3Yw4QvpmzarNqGllQ0TMjT3RCntnF4GA/wBNf3HmqIVbMbNwjLhfnfJalFACldPE3nY3IwOCYPbzf3DvdoM/Kspzsr0MmqZXh1O9lsPCRnYDJAaCDvfnf0btLIS3LdNxTbnCnWtcvE1IksnKpXnYGYaACAPIfgzgiohjO8VpKaywqe5nCT6JidPdhX46BHuAJhpDecXICJRJUUhYRZnDwDB2QCJlgQH9WH9f48yHrDp8ac2qBKxzavY4DYfv5Z9/RvkfgkQnsXOmumie4l6xSP2NadVIfVMJPoDMGBx5rMZYluBVYVK+kyHLtHo9EwSACRCLe7jNcZLSUPZWz5adxl15FRcagEQNHHxFz9yRX1D7VoKWlcffee0UBoCJEB17PMt3lJRUcFLokhnOAny7DC2AyBkIeN/B2JrrXMtI0IyL2rN+Z/7OgbMojHHyszSmJmgeOeWFYu38fxLq/YZ0PLZlA6MeuBd0eCLIgLkGB32Z0HGSNlNJUsSRA9JnfYEEHIGpJVZyK7QNp6ppbDVYhFn0mH9d4CyLdEdpXOqY+cayersOOYCDHYZ1nbkFo91m9jgohT/yr3+o4GyLs0i5WvuWycoOfLkI0YAVJcpxw7GVqkRtoy0YgmQAwH1x0WOTmVacTAyNC96Sf2/ygYVjOzpk+Z5NwAx58hEqgJAeNHQqtWGoWmwVLvWBbgIYfTzNkpaqW8pFKYmZ6Px/Q+WGivJIt1gHlAPSMn7d+3aDzDUKZ/egFr8deScQYoBrI0Rxo67QrwNyqyE9gKcSGXj8u+yjAGpBMAaCAwRMfDrI+5r9Yfs724TI95h+09KClK1aB0UBiA7upH9s2waQlFSkS+KK2Ob4f87hIY0PUA1QFI0b4vt/2uWBi1dNcFJQjsrf73+A5/WKj0zrUnCO3d/yf73mbIu+TYNRco1U4v5/kePzjNdQJ05zizfn6X8I3ryPtVWxSLCIlO5ifzvWEpQWXOpAj4V1+Ph9VsxempdjljaZgtcEGHulwBajqmt6KYGAnxMRdqCzuK6Rc3QZIoCBJCRu96W0vVp6igZ2gvU2kGKemFTQ4H4K8YqIHkqwUtGMn+bSf5nZY5PDXBo+EoQ3AM97WMHao0NtySQVgDYcjHHsqWe6pXlRB52CDzkIYH+V6Na4fwnnOo2BVNxGo4Zi+FN9Isb4oKlrhCYbgM0cs3C3p/y9OnuvAGyEAkH0WJOPFuPgf3PYWZXRYJY2zoF3Del2PbI1s2R39QsfgpY4A1+Lk03c/n+G3fOSbV4NOSKCcAz6drSxcbQ7eLkI7YL8PAZbJ5CT48N/vdSQmHRlRS50gMgZ83BApvfB+Hz49jGIV02kS22HYvlafEC/36jgcu4UEIFmNJ1gppM83vJ/YNe5l2llEy1DgK4dVW6XoSTJqn5C7P6MplctP/eC8AqHdqOu5bkee6v85IbAS75L24b6/PJ6DbnQr093HwjLgxNDiFM8igv0B33LvyeqoHSIDn6CZD4zVwqMJfC3fVXCYKjTc+4PUoILPiFXyIs/8Wd9fsBNqh51VQwqgwxCTVOJiVr36HtluiCwKni0A4GFHkpWS+uFgQJ4eISwZ7oOfAv2W4qTVZA+IoKgEtNxy6PfyUV/keM3kyljOiwIgEQnTWbYlTXfo38Nzdqh23DWExWCPz8fVCKJl/pweiy087e8e6r1LItJWNY5DIEoG7xs5ZuG1vx/UtMlnrFuFRe4gWQ+/VOliBT9VHlbsPO8XX1z7VaPo18jLw2Asyj2Y4uSb+dhfljB7awaeOn/+4ddUxo+eIH6GWpsaJqK2sN/D8ykpP9z7QkMhY9MB0XMglITiW/RnfrV8n9Gz6yiDnN1C86EYEyrRJSCCRVYbuWbfNnAf6/KoqatdYIEFofZUvo8BYEMH3BoH5VE5VF+u75KsbR6EfVRjeJeJS0FgNIwFFxzi8P5InndrEnERX+H3Uqa420jFCyDskixRqOC0RZObD+YU+G1frW/jLEze9bxe4/oYvEle4BhOlxTi4aoCOByKaD01cx/xshNqpN4qPlMjNVeFysqgPQ2oFVCh0AHI3MHoOfWr39txt+s7Xmk9OmOKWMEJNiA/D4OTiWEphJDbeWXQ+TTfQ255bkGfvvi2JhMbicQ+IQNUek6VIA+KiZeCYvJ/ul1YKPl08d/I8Z3rgp7Ee+LkqxodBnnghlLqEDagNMlnWAtjAD9O3ZKo+nUpH98w4yxTXxI6TuW8mzaEE+FcVNoNgaAfTKKVnmGVg2Jbq2Xb+eQfMOxFsTCfzHSNKY7eAv2D5D7ZkQaLIO9Tfs7N4DELqpYDYejDFVuz5YB6qh7AK5kyf5/sMoGrWN7q+qvloBuqAuih4RaciuPgAJBDUiWgc4j0V9TitcEg3HsmQjmWXwvryTJ/n+pyLevkHzF5PuajXLlAdSLx2J7HsiCTE4fOQSAVzaaUF6DNhz2Y2SMOAGEcmman+bbe4+sis3Vf9/B9baNflDZqKNWeNfxPJSubXQKD4k4X0AiUoKuTWw4AoDYOUpM9YGBJFRd3YdwDidrT5Fh+Id1zZ384ll8yqzWzqN/s71qvIZ/888brDp8++Ixngp2Rfbckk1tVAkyimRivhs5hLRVJS3ggKNHPj0IgJU4zkuIgekoqlgohfcYtmOvig4J5GzbkXX5NHRtmmfqr3kgpBTcZ323rqbOdn/0uTrC+3+fxeW2GX+E0bKs+Hx03aijvXlI6cabkXXe9AOVm3AWAFaPAWvbCq+K5mQbFf2GbV7GHiyEs1fVJyeC1lBCMNiA70kKOCmAE0MtPwSAVzyvRVSAyzWVSwWBfi/lUAOCeymlVTuDzSPfWZ2EfB6bXRmGjhnhYKKHCBW6YymJ7hAvZqSKQw1HaAqMCAoKalCNPwd/a3GO6gSrbGWPBwOTbSiQmQE7braQngCmbgyRFgDXbimRAwDNbgyRZACJbraQOAEKbiiQgAJNbWWPPARPbHGOawYLa1CNDgl9aQqMIwyeZ6SKqQ9oZSmJnhPSYqKHABjWXxmGzBxqXJ2E/SGFWDuDjScfVAOCdC0wTwWBqjOvSVSAIjqWQwSA0EDePCmAo0eENdiAiU6GLSeCbFXiJCyENFyeG/2Gx2LAEa+KBGlSB1aPzW5l/AOV/nMK8cWbcnhd5aijAXx72bKshX6JzeW21n+zwTrCzH8mtqbORH4aqxTcHXvIoGbqO3Zul3X5iW9Mjw4J+2aliPcYjVy6g+koSlDIgJU4R0ILgKNHqzK0gbRVrCHrhWRijw/JjE1trPxXlgp2aOmNojp8PNZKsYZ/qcNWwqN/PrJi1Vl8jaIB6od1KpWw/ydrpYrTFVRdgYO8K0tMMoCpQGw4EIHSU0EiUYZrZHUKBpCwcdfxEJ7telDZILCMf+DBscUZf5CsCt5WeWmaQfg7bmSMPxMEXl6Dzi0xSQSAokaKMMiCalwbFdSL420t+Pua7Hk227avn3/MvyTJXX6Npwfm6XUHlNYEcWaahs0jlVBcgAJBbTUDgoRafhbJi4Buq/VfnWN7GNXitf5/D7fk06h7zp1y9VVuYYszGKpYb4GSOfw7EoHpVkUar4q4bQv23p3jezLSY7npf8SxNtsSea2XnQCTZ3mGZiadTAaAIUlWKk+FdGW1AzqWcnhM3Iyx73/zt+jUx3ptmgD9F2n9htMlS0wCgBlLGCekhqxoRv2Ymgp7U9MQusd/AK7P4el1xZF2DSdePoLzN+o6r4EVXCgQnJAydfzinq3Lfw65Z9UVeuaXGgNXZCWE0TABQdiAW1iDFOiOF3TG5N6syX9zuOfWVHkElj8HKGHMgvQ2YToUgtRedQp2lJJ4htiet8x/Vaxy5uByFY3AGV1TKoBLSfIlMIgXbdfxV6TPfra/U9D1ekCY6QSqYaOCDjniNiuDZWPlAUqa/XsozEnE2X2in8L5F2j4hNEwTT60geFeIAgHl7N6889IwVF++KB0+HBo8YSPMfs8FYLQYIIEj5kJfLDK+Mb4fOWb/gDTYpSCNDvDMs6ErGgM96ui3X7zvPnVNHjckVEToVUkgI5Mrh6GjP5zDuCptMN/vqhf72pseYaOLhs+NYKFYur/oJ3dfVnBXNISeYuSPhO/VA2AfE/aGVaP83aw1/O8mH4IoBP9tmNdgmQ+FC1uh7BufOl3rvx/4av77LxsGoZaMdc5moOxZ6v1xaWkfyy0FeN0cSKJeym/QBWClmPe+9mhKX/jtzTfAnM8ikMnSELegShj/vsjokV/oLY54dNxBonPKpE+yIJ8Zgz2r6bTf4SwNumTbeuF8DNQNYCF8mwa6h+w039Bpln3NWUxggtC8iWAix11htiEv2d9RpmoCyFXB4DRU+8P6ZacfFbC+dXsdQqMiSWXQX6C3GZe8yaq/n/CqQr0TmZAghJDWCNQjU93tNE3x/N6s5LKGL9LxoBrYKz8IaTLf6Suku75aPiCz0D1JP6MZHeb0CPJDnqmkK0d3Ua3gWhl3vMyq/J/+KUq+55gq4CtTe8UrZXDfEG/FNwCcm6HlzOnMTCIFnN72fbB6Htjk8YZDEmEgXRlcfJPrcN/JKIFAgdbDYATVroI3p1Af7WxYO0baCKCskafG/OS/XuVwEvcGHE5hpQ44iqoi2R3uc3Vzup2CouVLJc2FoebcnTY0cRxepOPOCP8PmyEgG5f4Pq9Z3wck8wcVUQIg6lrROUPulR9KpV0Gd1GfoJyagrn4riHfX+VQhmyRp2CAGup5WW6E30SlDUc0kNwg0NtJ+Grvs97DJFBIhs+PoXzcJrZ5MVWedGMQitQNYmIkXU1z1LQC3UBiPM2LCkGjlp6VsI73iVugoPXRHUZkZZEfqGzxO+6Y4GAH1QeBhWj/n8UpNYE5lRygJZjcu9qtPl9H5XrHOxA+ISMcT3WH8uHdrGI4jZ7J7uP23v9uzXnF2gkgdZQ9Agjov5/BKPSB4RREoELaL7m8rxee3GO+SqPMvWKC3l9w8nfxWv9gVZNVgyQoPt/LKOmCA5QfIFSatDhOcJEeeOKlzPpKAWQg3zztwzukWIkgKxalfnfrph+f5VWH/w7sYeTdjzIS9zKbAaCiE4hCeuj6X+hnaUSjUY5hAJytdEc00VxxoNNSCkQlZ/9f/igOw6wSXWD23Bs0wHShHG+g/FIvQ73oPx/u54/EstFzoSQcz3N59idbfWBXVDXBF+oWH9vl44eYTpGiQt5tr846DtkHYBhXXHyM7fbewyNfDJUJmKTiH54rGMA6FKfgUNtK9hkz8txXoMMTLsIr6Zsf/yW0iDjNmuLJHtzuD3yjlxBgNxmU+Kbxod1Y4VcRr0OFaPAf+uYex4/OCuLOXt0t1f0clqPgKhpyNydzFdyO4P6TYMEGqtxfsWRwSufKnCSqn7DqbcGz0sDhBZ0PMhS4rdlEoCdYBTqb8H7duWFoUZdDDOmL38SlLEoliz2kbJ+vqhACc1IToV9duDBeOqwXy2A7Wd13RfOhnD9gZNUqflktR570YkJPu8UL6G1f4OW0iUXLtuR3X7ZpkINRURth1x5n7lx9fdWo4EWcLrNM9/1ZQSA9mM04h/LRXH6gd5VRvaOuR153IacRlUJp6rUff6N4jb2Gmae13++lkIn4iqqlJ9/hKAyGPg4OY2jfc6qBwovRcuHWnostf/8lk8ShC92Qr898UlYvIGDccfI1uZwX3uAq2yF0dHdNWUGgO1nUdkp1sZpHYCFYw7g1c9NbYaAol+p5cfK8W8SgWlcFerxxtRxnIH1WUjtSMQOcwaCW1hA78HCsnNAgqRX+e9VwstzPoLYV3PvBMNZcwOC9Fiu7dHEV3KXgfBarerBx7RwDYG9XXPm4MtZboGARWEI4TvRKGsagGdleNrg1/xmCID8adXS29+qYYOAzW48yjXpCFvOgZtz08Dw8+hSMIQZeNC2AgAiSfqH7nt4rFUNlD17jbJ+JKK9GyswApX2f0CY+SrmINeeQn9Nj6o63A8yqx183odWSkf9NLoSdpSCYlmD6eDLvGwbgBVnGdUN4NJfHIGbcsPAXvYxTzOGD3tjrTsO6zrdj4Z/CpzOJlkjZp4gf+SN+j4iCdexI3kshGtVSO3dyQ5tEoCcaCXRuuW7Wp2C83ZntjsEekKFjN9++p6zIyglD54Hf+uMCkI9BOO2d3Y1gtRc0OHy1ddkioCDcX/AYPmcSg+JqH1Lo44eLSkVnEJ/UY02Qu4C4rgWdW+BrmA324bdBV/egUV2E7bXBk4+u4/Df+aXmzC0Faaq83rjhN5VaumC0ClnYoCMcb2+X/2xRTWMKX+Km8Ar+hkUqKh7Y4UtVX3pO9EwZpmADXMqu2sCqkBAj81/hJZkNPAParAPeFiC1F5v28jfqltZg715KqzlFUcu1poaf0GLIElH9+PFa2wJgEpv08BF/dNDNY7CfyKWVjZdDG+0pnUSgeVkJdHc64VRsYfZfVKf6CgTGiWqDnowg3JdaNvO4blY6IQJfKSk/CGJIMSllHtYhINa5N7i3nJabIS7exCl+yH0H6GmGHu/g55caNv64vhW8oUjfYWg5yhNGN2sT3jJgWRjJdE+7r5NWopAf9uXVTZcCWK5y3EVgHRt1MDjAJU9lZPSfw2NIEkS84jNKmWDgSl4K6yiGiglVqRje32D1F5D1mXqlk8MilV/hJbWOekDVr+ebSKADXOqtacPxS4knlR9Y4VwWmnbBuZLUhaJKX/fliE6oQJHwe9rYoAyddGwlhZEJyCk83q5gmNiZs+P845Guo/7f+SN7UlA78TTBV8DhJB8U5/DLsQN4rhJcAiAr3KAtFATLSmjo8h6WIJqZD7LYPl9QAeUdn9QiapT0OEZ4l5TiYmKf1aTCkL69hbO8WFZg0x8+p7KMPAJhr2sbIOA83YNq9EgRhpHsC10EoCOcKG2txLXJwmmI3kkgf9pBsHXBq0yZp42fPiC9mPCyV/96zr1mPl98YT2XoTQXfbAQFeV5H6ahlxbGtXW8VZEQ5NNf6KHYllo18PvzEWKkmd/3ocmWWLXI/AvRRuTQn9Dh6taCNX28npCApXIfuuF211m0D/4lT1smMF9EoSEYpnJAQBYNp+d0HsZglJo1MA6CpYs+KR5eIaAzW5nts8WJiDeriRzCIBQdc+qhyXvELq7KGtvgQl7u574NQT/4MvXX6eF834ck3FHrep335ZQqY3gfyOJ81iP1F32/Dxcmot8P4IhabS9BxD3JHassnMLgEV2pqdfK/UIR8RMZCuEZH5mlLFGFeqC4b5NDpBsf1uGol89ygUDLDCipHd3HYBNcyusria+DPXBNmUWhIV+VpNKSdzl1eZkSAaURX6ag7lmQ7+GEEMiarBScKiAWnrTnao6+vXf1/9TOY2/fw6He1+ryLYG4yogqrJzKYCDeCCh4TZj+WbVWlXIjMJ/3IZqYK/GuQlFJ5ytRXGegLN6C5yPPvrvMt/NTG+SXn4wgy9poLlzGRgXurufZ+OD3X53kF1QL9r29W44L6HTdweALnYipMI0qvkW13NSeo8Hf/+D7GdnusUZiRUlviplToWSf9KMQVdm0JYBlyxAq41x0YDie9uXoEYx5F/tkj7AnQR5EoAkdgWjwzem9Ibd0EuqlAd9VoEWcMyswCs5AQDS51T3juR+PIP8ai60NyO9CZHKc1rIi5h/x4SwZ4+4eh4rDvbG7FyFisd/Y4WpZqC5rB2LDgfHj1zqiq9/3IQKaFC30SDdCsbKUlkLjS9/XoOka8Wx1CccA1rS6VJYkcF9eIHycGmpezJI9wjezkiOmIB6HYANd/ueSUCD5wvuYjqiozV0qICcfKiTXFBG1GsCGiefs3BpzYTQfyqJRGGRvroavg5iybpYfI5xfs6B2nApqMk1xvFC5e1AlJ8LdmKAOnzAk1tRttGcBq4hcrlYZOWH6X/4hP9pebFfKwD8StzkR/maUHgWgCR7gJWiT9bSaQbnIPa6kmJFiaR/foOtbW6rljMs8tXmyD1fo+Fye4GEfhaN01y1wSMaWAxXznNSOpRjexGAC3mfmIxMCNWiBSYg8bwLYGqL7n7JgYxyBaNpP5TjCveILdaxGGjbhul/JoRdbU6q4DZ+7JHu4zQZrO9r94T9f5CF4GpkraczdO8n7Jk2GatabOeE/n9Phahr4qv3NWTsw+/FMraucGmjht9/goOIb/mlqD1i43P5Lilct5Ji9Iq2fiGBkHV8nBxKwNQ/CWQZ4sWMVmGTw3oGgO57DZECWlvB2B4cAzTb1EP7oY1x7ILTf1yG/2oOqww5wObE9xwp4bg+YDmNgn1DgFx5K5UsVSXGuhogBnnZV0RkorRwmYP5f8eEf25apQBBydw4A+0cz8SnVVeV63hygDJ+C4t1ZECyRTJF7Aj05CrcuAVf545NfAKA/Htyj2teULnNKpPzX+2MMG60I2ILjRR9DYBweymQ2111uUArc/Ij70gu8raxXwyP6HsGgPd864zmYquyljPs6F/57iPAwCNXrJXTdw+BVX/+hlhs+aULQ2PXIAzwEOrS30YCo1du8oWUf1aBY3falaNXMr/MJhT1kO7lLOK54Vvakh15xoA5f9yGTG23o/BGttGCEyIIptzhPHasT2aoiwd9AoAjfWKL22aCq2I+edoMC94P99VPQl6oGGkMiq99B4DDfMqLuGYcq38/iNjTDVgMDNrwPbCsNmUUjeh7LYCNfteH8WygohxKEsy8G4P9NOkmL2S6Ull3lqZ1yIL8fyKC+nZmlDNcorbWM5Xj/wOFFMPTSkIfqk9m/YyMe12AKX/WhdpwbJzXUsTAeSmw7ZT67hybzA9IxKVTaSuLZ3wygPN+GobXcOebHVSSvqssfumu/xkX6tKZQQGsuGO3j1V5Z4Hyf6SC8nYTk6FfhrD5PFHXPBO8Amznpi2pvhVTn53PbvmHzH0GgIh+eoYfcWqaQFd2ue4zEOAfC/EJUOGQMva6o1UUnItvy4e3fQ6A3X58hQxzVpeoW6OzMjtp1wUVBf/47Icm9sYgSqCmcmb2jut4FYLzfwWBDnu0i99q+qALUb6+CjA24uwKIwgJ5SgtsMERTumjGGgpjiN5JoLnf7yA/HvcieFtnJznVlC3DDmy184WGfv08rAeUNC2P4qxq1vpmIdwL4jXfHuA1X81gnR5Fo1RaiygqVP3uTc3iNgTF6v5iPUKG+bUYzpct6NV1p4Na9uMVXl5gq9/N4DZfRSGFnSNkydjp6c5TAfBzzAM3qMS6fyO88EbZdXLOOK5ZVKLoipnm5ALdveEUX4jgKt/P4IqeguLOm7umZ1cAq5aRibGqiwK4esQSf2I9HcZ5dg5NFW/TUwCqZ9g6JZTcMSJyHoTgqR/EYDPfrSDcXizjPFsjprpXJKsH0nowXoynNn2Ga3ymgASDGznzSRiz+07YbmcUDGmJGJ2lvJvroqgeSuD7n4WgMl/cIFGfA+HnnSnkC9pz51vWgKu70iowE01G9U0IK/qUgqzAFX0gRbg3nYrkMr+PvC3l1B5p9RfjplbbHuO63V4hll8ooGUfwGAn3+IgZB8FYaSdnSN4W1ll8VimKOQVbexoEZhwVQ2NdIRJc3jOxPI9TUBwwdc72UZB95ZKofNUjokvg5JHbBTVqaj8mHpmMZrBJC2cw6JsHkRhK99D4G1fwKAzX/agAp+goOEet6HWnXOja9uK5WpZtCdcV2QpzNTQLIbSLa9VDzDyQowP9ZnI//ilBbb77gJr/z2/FcJbvC2FT/kryGD2CgtUs0NOL/CSkLbuNFLtK+WVFSnj1zCn7hjA5kMahqTi28FjjZ0w4kQeFCGHnulg2h9u4H0foqAzH8IgPt/K4CKf+eAhX4ygvd8/4PsekSGcXj0iJB1A4xVcmaPzG4Tk/9q/Zb5ZhybxGJln2pezqP0WU+oalXgrNNQerE5TBS2oEepuhBDM7+OPqzDHzoQyMg1WsyMMYbQcS2Q1Hgpd9ilJTbc+iHM33keN+MkG3Xm/ReF6QUVZew9EhXvpQ+U8T8N4fMMC/v1Cgnj9zwHmPmhBRr7OARo/AQDg/0CAmv+NAEf/5oAoP8zAO3/AAAGAAAA\" type=\"audio/wav\" />\n",
              "                    Your browser does not support the audio element.\n",
              "                </audio>\n",
              "              </td></tr></table>"
            ],
            "text/plain": [
              "<IPython.core.display.HTML object>"
            ]
          },
          "metadata": {},
          "output_type": "display_data"
        }
      ],
      "source": [
        "# Function that returns a chirp\n",
        "def make_chirp(duration=1, sample_rate=8000):\n",
        "    import numpy as np\n",
        "\n",
        "    f_start = 0\n",
        "    f_end = 4000\n",
        "\n",
        "    t = np.linspace(0, duration, int(duration * sample_rate))\n",
        "    sig = np.sin(2 * np.pi * ((f_start * t) + ((f_end - f_start) /\n",
        "                                               (2 * duration)) * t**2))\n",
        "\n",
        "    return sig, sample_rate\n",
        "\n",
        "\n",
        "# Generate it\n",
        "x, sr = make_chirp()\n",
        "\n",
        "# Play the generated sound\n",
        "sound(x, rate=sr, label='Chirp')\n"
      ]
    },
    {
      "cell_type": "markdown",
      "metadata": {
        "deletable": false,
        "editable": false,
        "nbgrader": {
          "cell_type": "markdown",
          "checksum": "e6667b950b7752f093eae416dac8de08",
          "grade": false,
          "grade_id": "cell-01175f3f6757f086",
          "locked": true,
          "schema_version": 3,
          "solution": false,
          "task": false
        }
      },
      "source": [
        "Generate a sinusoidal tone with an exponentially decreasing amplitude from 100 to 0.0001"
      ]
    },
    {
      "cell_type": "code",
      "execution_count": 26,
      "metadata": {
        "ExecuteTime": {
          "end_time": "2020-01-23T04:51:44.449495Z",
          "start_time": "2020-01-23T04:51:44.436295Z"
        },
        "deletable": false,
        "nbgrader": {
          "cell_type": "code",
          "checksum": "ad4528e2375bd1714d2c27422467651c",
          "grade": true,
          "grade_id": "cell-f0cc50fce11fb779",
          "locked": false,
          "points": 3,
          "schema_version": 3,
          "solution": true,
          "task": false
        }
      },
      "outputs": [
        {
          "data": {
            "text/html": [
              "<style> table, th, td {border: 0px; }</style> <table><tr><td>ping</td><td>              <audio  controls=\"controls\" >\n",
              "                    <source src=\"data:audio/wav;base64,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\" type=\"audio/wav\" />\n",
              "                    Your browser does not support the audio element.\n",
              "                </audio>\n",
              "              </td></tr></table>"
            ],
            "text/plain": [
              "<IPython.core.display.HTML object>"
            ]
          },
          "metadata": {},
          "output_type": "display_data"
        }
      ],
      "source": [
        "# Function that returns a \"ping\"\n",
        "import numpy as np\n",
        "\n",
        "\n",
        "def make_ping(frequency=440, duration=1, sample_rate=8000):\n",
        "    samples = np.arange(duration * sample_rate) / sample_rate\n",
        "\n",
        "    exps = np.linspace(np.log(0.0001), np.log(100), len(samples))\n",
        "    sine = np.sin(2 * np.pi * frequency * samples) * np.exp(np.flip(exps))\n",
        "\n",
        "    return sine, sample_rate\n",
        "\n",
        "\n",
        "# Generate it\n",
        "x, sr = make_ping(440)\n",
        "\n",
        "# Play the generated sound\n",
        "sound(x, rate=sr, label='ping')\n"
      ]
    },
    {
      "cell_type": "markdown",
      "metadata": {
        "deletable": false,
        "editable": false,
        "nbgrader": {
          "cell_type": "markdown",
          "checksum": "7e7e0b8e562787700cd8fbcff2cc3ec1",
          "grade": false,
          "grade_id": "cell-9e80e19201cdb7da",
          "locked": true,
          "schema_version": 3,
          "solution": false,
          "task": false
        }
      },
      "source": [
        "You will now make a stereo file. This is represented as a 2d array, one part containing the left channel and the other containing the right channel. For the left channel generate a quarter-second sinusoidal tone of frequency 523.24Hz with an exponentially decaying amplitude from 100 to 0.0001. For the right channel do the same thing but use a frequency of 784Hz.  Start the right channel tone after a quarter second. Play this and verify that it sounds ok (it should sound like a video game “ping-pong” sound)."
      ]
    },
    {
      "cell_type": "code",
      "execution_count": null,
      "metadata": {
        "ExecuteTime": {
          "end_time": "2020-01-23T04:51:54.649178Z",
          "start_time": "2020-01-23T04:51:54.606436Z"
        },
        "deletable": false,
        "nbgrader": {
          "cell_type": "code",
          "checksum": "99b178ddfcb78013d8ba4cfb1e09dca3",
          "grade": true,
          "grade_id": "cell-21503b5a4bfd51de",
          "locked": false,
          "points": 3,
          "schema_version": 3,
          "solution": true,
          "task": false
        }
      },
      "outputs": [],
      "source": [
        "# Function that returns a \"ping\" \"pong\"\n",
        "def make_pingpong( sample_rate=8000):\n",
        "    # YOUR CODE HERE\n",
        "    raise NotImplementedError()\n",
        "\n",
        "# Generate it\n",
        "x = make_pingpong()\n",
        "\n",
        "# Play the generated sound\n",
        "sound( x, rate=sr, label='ping-pong')"
      ]
    },
    {
      "attachments": {},
      "cell_type": "markdown",
      "metadata": {
        "deletable": false,
        "editable": false,
        "nbgrader": {
          "cell_type": "markdown",
          "checksum": "3882c3f45e62a71c3f90fb1dfd4be700",
          "grade": false,
          "grade_id": "cell-1d31e3b3818ad10d",
          "locked": true,
          "schema_version": 3,
          "solution": false,
          "task": false
        }
      },
      "source": [
        "Download and load into python the file [ https://drive.google.com/uc?export=download&id=1BZ5qqH34-GCoJcSoCMxo7YWS0kwX3BSz ]. It contains a sound waveform encoded as a series of 16-bit values (it's not a soundfile, just a dump of the sample values). Find out what its sample rate is (there’s no trick here, this one is trial and error). Show some examples where it sounds wrong and explain why."
      ]
    },
    {
      "cell_type": "code",
      "execution_count": null,
      "metadata": {
        "ExecuteTime": {
          "end_time": "2020-01-23T05:41:54.388869Z",
          "start_time": "2020-01-23T05:41:53.342383Z"
        },
        "deletable": false,
        "nbgrader": {
          "cell_type": "code",
          "checksum": "2b73a992dad128405ecaedafefe084f5",
          "grade": true,
          "grade_id": "cell-02722833e77a8b51",
          "locked": false,
          "points": 3,
          "schema_version": 3,
          "solution": true,
          "task": false
        }
      },
      "outputs": [],
      "source": [
        "# YOUR CODE HERE\n",
        "raise NotImplementedError()\n",
        "\n",
        "sound( x, rate=wrong_sample_rate, label='Sounds off')\n",
        "sound( x, rate=another_wrong_sample_rate, label='Sounds off too')\n",
        "sound( x, rate=right_sample_rate, label='Sounds right!')"
      ]
    },
    {
      "cell_type": "markdown",
      "metadata": {
        "deletable": false,
        "editable": false,
        "nbgrader": {
          "cell_type": "markdown",
          "checksum": "d2d95276f029fbd7bc77ec07acb4b075",
          "grade": false,
          "grade_id": "cell-9aad0633db61ab8c",
          "locked": true,
          "schema_version": 3,
          "solution": false,
          "task": false
        }
      },
      "source": [
        "## Exercise 2. Saving sounds"
      ]
    },
    {
      "attachments": {},
      "cell_type": "markdown",
      "metadata": {
        "deletable": false,
        "editable": false,
        "nbgrader": {
          "cell_type": "markdown",
          "checksum": "b3b2e444d23165e513f2c5a3ffa84afd",
          "grade": false,
          "grade_id": "cell-b71e00dfc8d370cf",
          "locked": true,
          "schema_version": 3,
          "solution": false,
          "task": false
        }
      },
      "source": [
        "What good are sounds if we can’t store them? For most of this class we will be using what is known as a PCM format (more on next lecture). The most popular of these formats is the WAVE file, which we will use most often. When saving a sound to a file we need to be careful and make sure we don’t lose any information.\n",
        "\n",
        "Take the “ping-pong” sound from above and save it to a WAVE file. Play the file back, or open it with an audio editor and find out if there’s anything wrong. If so, find a way to fix it.\n",
        "\n",
        "Useful python package: ```scipy.io.wavfile```"
      ]
    },
    {
      "cell_type": "code",
      "execution_count": null,
      "metadata": {
        "ExecuteTime": {
          "end_time": "2020-01-23T04:55:33.146039Z",
          "start_time": "2020-01-23T04:55:33.137774Z"
        },
        "deletable": false,
        "nbgrader": {
          "cell_type": "code",
          "checksum": "648197066f7315a8c5052f4d0babd4dc",
          "grade": true,
          "grade_id": "cell-1a573eb7dc602dc6",
          "locked": false,
          "points": 3,
          "schema_version": 3,
          "solution": true,
          "task": false
        }
      },
      "outputs": [],
      "source": [
        "# YOUR CODE HERE\n",
        "raise NotImplementedError()"
      ]
    },
    {
      "cell_type": "markdown",
      "metadata": {
        "deletable": false,
        "editable": false,
        "nbgrader": {
          "cell_type": "markdown",
          "checksum": "c0a7a91a00cfee6c5d223a01295df3eb",
          "grade": false,
          "grade_id": "cell-5ea84710078c8e03",
          "locked": true,
          "schema_version": 3,
          "solution": false,
          "task": false
        }
      },
      "source": [
        "## Exercise 3. Basic Sound Editing"
      ]
    },
    {
      "attachments": {},
      "cell_type": "markdown",
      "metadata": {
        "deletable": false,
        "editable": false,
        "nbgrader": {
          "cell_type": "markdown",
          "checksum": "1cb977446ca78fbcb6d32f0ae7ca8ede",
          "grade": false,
          "grade_id": "cell-e30a3c4f689f8165",
          "locked": true,
          "schema_version": 3,
          "solution": false,
          "task": false
        }
      },
      "source": [
        "Here we will learn to do some simple manipulations of sounds. Ordinarily you would do this with an audio editor with a graphical interface, but hey life sucks and you have to do this with code.\n",
        "\n",
        "Useful python commands:  ```scipy.io.wavfile.wavread, numpy.hstack```"
      ]
    },
    {
      "attachments": {},
      "cell_type": "markdown",
      "metadata": {},
      "source": [
        "To make your life easy here's a function that will load a sound provided its URL.  It's input will be the URL of a WAVE soundfile, and the output will be a tumple of the sampling rate, and the sound waveform.  If you prefer to minimize nework traffic, you can also download the files below and just load then locally."
      ]
    },
    {
      "cell_type": "code",
      "execution_count": null,
      "metadata": {},
      "outputs": [],
      "source": [
        "# Load a remote WAVE file given its URL, and return the sample rate and waveform\n",
        "def wavreadurl( url):\n",
        "    import urllib.request, io, scipy.io.wavfile\n",
        "    f = urllib.request.urlopen( urllib.request.Request( url))\n",
        "    sr,s = scipy.io.wavfile.read( io.BytesIO( f.read()))\n",
        "    return sr, s.astype( 'float32')/32768"
      ]
    },
    {
      "cell_type": "markdown",
      "metadata": {
        "deletable": false,
        "editable": false,
        "nbgrader": {
          "cell_type": "markdown",
          "checksum": "6d421e0f39803f41436033f6e91e29a7",
          "grade": false,
          "grade_id": "cell-6cfa7b0f72ddfeaa",
          "locked": true,
          "schema_version": 3,
          "solution": false,
          "task": false
        }
      },
      "source": [
        "Load the file [ https://drive.google.com/uc?export=download&id=1CbCTIMNDfJUpCRpYMK9IFdb-jQJgZbmP ] and listen to it. Clearly something is wrong. Try to fix the problem using code.\n"
      ]
    },
    {
      "cell_type": "code",
      "execution_count": null,
      "metadata": {
        "ExecuteTime": {
          "end_time": "2020-01-23T05:31:15.874012Z",
          "start_time": "2020-01-23T05:31:14.249022Z"
        },
        "deletable": false,
        "nbgrader": {
          "cell_type": "code",
          "checksum": "227affc3dc711579e0f865a5d7d09a8a",
          "grade": true,
          "grade_id": "cell-a7b8dab745b0dcc6",
          "locked": false,
          "points": 3,
          "schema_version": 3,
          "solution": true,
          "task": false
        }
      },
      "outputs": [],
      "source": [
        "# YOUR CODE HERE\n",
        "raise NotImplementedError()\n",
        "\n",
        "sound( x, rate=sr, label='Fixed sound')"
      ]
    },
    {
      "cell_type": "markdown",
      "metadata": {
        "deletable": false,
        "editable": false,
        "nbgrader": {
          "cell_type": "markdown",
          "checksum": "ae27435e26adf994bc52aa28bb4ede26",
          "grade": false,
          "grade_id": "cell-239ddc65716d5111",
          "locked": true,
          "schema_version": 3,
          "solution": false,
          "task": false
        }
      },
      "source": [
        "Use the above file to create a countdown instead.\n",
        "\n"
      ]
    },
    {
      "cell_type": "code",
      "execution_count": null,
      "metadata": {
        "ExecuteTime": {
          "end_time": "2020-01-23T05:24:34.673599Z",
          "start_time": "2020-01-23T05:24:34.633505Z"
        },
        "deletable": false,
        "nbgrader": {
          "cell_type": "code",
          "checksum": "ede42cd1dff35a483f3c0cad4440d139",
          "grade": true,
          "grade_id": "cell-a2d0fcf0f7b2444a",
          "locked": false,
          "points": 3,
          "schema_version": 3,
          "solution": true,
          "task": false
        }
      },
      "outputs": [],
      "source": [
        "# YOUR CODE HERE\n",
        "raise NotImplementedError()\n",
        "\n",
        "sound( x, rate=sr, label='Countdown')"
      ]
    },
    {
      "cell_type": "markdown",
      "metadata": {
        "deletable": false,
        "editable": false,
        "nbgrader": {
          "cell_type": "markdown",
          "checksum": "89bf3f0a868f5731e3763139a97c7597",
          "grade": false,
          "grade_id": "cell-d2f2c6e923d0d013",
          "locked": true,
          "schema_version": 3,
          "solution": false,
          "task": false
        }
      },
      "source": [
        "Load the file [ https://drive.google.com/uc?export=download&id=1C6xgDOS0sQd6zCNbnRVBwbZJ5qoUyETg ] There’s something wrong here too. Fix it!"
      ]
    },
    {
      "cell_type": "code",
      "execution_count": null,
      "metadata": {
        "ExecuteTime": {
          "end_time": "2020-01-23T05:28:06.779950Z",
          "start_time": "2020-01-23T05:28:05.087434Z"
        },
        "deletable": false,
        "nbgrader": {
          "cell_type": "code",
          "checksum": "eb5665c68551618927fafdb05d434056",
          "grade": true,
          "grade_id": "cell-3900b968abcbec08",
          "locked": false,
          "points": 3,
          "schema_version": 3,
          "solution": true,
          "task": false
        }
      },
      "outputs": [],
      "source": [
        "# YOUR CODE HERE\n",
        "raise NotImplementedError()\n",
        "\n",
        "sound( x, rate=sr, label='Fixed sound')"
      ]
    },
    {
      "cell_type": "markdown",
      "metadata": {
        "deletable": false,
        "editable": false,
        "nbgrader": {
          "cell_type": "markdown",
          "checksum": "7e763f41b2cd0198e8fdb3f177e169a7",
          "grade": false,
          "grade_id": "cell-9e330df5973fe5d1",
          "locked": true,
          "schema_version": 3,
          "solution": false,
          "task": false
        }
      },
      "source": [
        "Load the two files [ https://drive.google.com/uc?export=download&id=1Bnlff8-cMeNRUgqtfY6nu9psEAA_-Alm ] and [ https://drive.google.com/uc?export=download&id=1BlAzhHEJCu81VybUHOKOStkVlXSWUYeO ] They are roughly at the same tempo and you want to make a music mix out of them. Play the first sound for two seconds, then fade it out over four seconds. While the first sound fades out the second one should fade in at the same speed. Congrats, you just learned how to (poorly) DJ in python!\n",
        "\n",
        "\n"
      ]
    },
    {
      "cell_type": "code",
      "execution_count": null,
      "metadata": {
        "ExecuteTime": {
          "end_time": "2020-01-23T05:33:21.225248Z",
          "start_time": "2020-01-23T05:33:19.087326Z"
        },
        "deletable": false,
        "nbgrader": {
          "cell_type": "code",
          "checksum": "2b132d068a8d8100962a61092c1098e3",
          "grade": true,
          "grade_id": "cell-5a3fa15bfacdfdc4",
          "locked": false,
          "points": 3,
          "schema_version": 3,
          "solution": true,
          "task": false
        }
      },
      "outputs": [],
      "source": [
        "# YOUR CODE HERE\n",
        "raise NotImplementedError()\n",
        "\n",
        "sound( x, rate=sr, label='Awesome mix')"
      ]
    },
    {
      "cell_type": "markdown",
      "metadata": {
        "deletable": false,
        "editable": false,
        "nbgrader": {
          "cell_type": "markdown",
          "checksum": "623a2d467260c00a72f802233025ad58",
          "grade": false,
          "grade_id": "cell-4c01476d9c9ba54a",
          "locked": true,
          "schema_version": 3,
          "solution": false,
          "task": false
        }
      },
      "source": [
        "## Exercise 4. Real-time processing"
      ]
    },
    {
      "attachments": {},
      "cell_type": "markdown",
      "metadata": {
        "deletable": false,
        "editable": false,
        "nbgrader": {
          "cell_type": "markdown",
          "checksum": "95df7bcb9d60c6bf67ba6da9e3aafab2",
          "grade": false,
          "grade_id": "cell-4b5e14bba3fc7868",
          "locked": true,
          "schema_version": 3,
          "solution": false,
          "task": false
        }
      },
      "source": [
        "In real-life you can’t just load an existing soundfile, process at your leisure and save it. You have to be able to process sound in real-time. This means that you will record tiny snippets of sound, quickly process each one and then move to the rest without looking back again. In this exercise we will try a couple of real-time things to get the hang of it. Interpreted languages is generally horrible for real-time systems, but we’ll stick with them since it’s much simpler than writing low-level code. In python you can use the package ```pysoundcard``` or ```sounddevice``` to get some low-level audio control. Open an audio stream with a sample rate of 16kHz and a single channel. Use a buffer size of 1024 samples.\n",
        "\n",
        "You will then create a loop in which we get a snippet of sound from the microphone at each pass. Inside the loop you will read from the stream (which should be taking samples off the microphone). Using this, measure the standard deviation of each incoming sound snippet of sound and after eight seconds of recording plot these as a sequence.\n",
        "\n",
        "Useful python commands:  ```pysoundcard.Stream.read```, ```sounddevice.InputStream```\n",
        "\n",
        "*Note: You cannot run this part on Google colab, if you do so it will try to open the audio i/o of the remote machine.  You need to run this one on your local machine.*"
      ]
    },
    {
      "cell_type": "code",
      "execution_count": null,
      "metadata": {
        "ExecuteTime": {
          "end_time": "2020-01-23T05:36:14.745676Z",
          "start_time": "2020-01-23T05:36:05.660563Z"
        },
        "deletable": false,
        "nbgrader": {
          "cell_type": "code",
          "checksum": "eb21adb108987355447e107af34c3aaa",
          "grade": true,
          "grade_id": "cell-dd127843e8c03d50",
          "locked": false,
          "points": 3,
          "schema_version": 3,
          "solution": true,
          "task": false
        }
      },
      "outputs": [],
      "source": [
        "# YOUR CODE HERE\n",
        "raise NotImplementedError()"
      ]
    },
    {
      "cell_type": "markdown",
      "metadata": {
        "deletable": false,
        "editable": false,
        "nbgrader": {
          "cell_type": "markdown",
          "checksum": "a57bc03fe00a95b7fb2975bc8eb20c5d",
          "grade": false,
          "grade_id": "cell-b5228dbaca07d11a",
          "locked": true,
          "schema_version": 3,
          "solution": false,
          "task": false
        }
      },
      "source": [
        "Now let’s try to add some output as well. We will make a robot voice effect that makes use of a ring modulator. This is the same effect that’s been used to generate robot voices for many older films and TV shows (e.g. the Daleks in Dr. Who).\n",
        "\n",
        "We will reuse the loop that we made above, but this time we will additionally have an audio output. Do the same as above, but this time you can also write to the stream to send a buffer of samples to the speaker. For a test you can simply pass the input buffer from read to write, and this would simply play from the speakers the sounds you make to the microphone (tip #1: wear headphones to avoid a feedback loop! tip #2: Every time you put on headphones set the volume to a very low value to avoid any painful surprises). \n",
        "\n",
        "Once you verify that a passthrough works, multiply each input snippet with a a 440Hz sine and send that to the output to create a voice transformation. If successful, it should sound robotic. Congrats, you just made your first real-time audio effect!\n",
        "\n",
        "Useful python commands:  ```pysoundcard.Stream.write```, ```sounddevice.Stream```"
      ]
    },
    {
      "cell_type": "code",
      "execution_count": null,
      "metadata": {
        "ExecuteTime": {
          "end_time": "2020-01-23T05:42:47.787124Z",
          "start_time": "2020-01-23T05:42:42.014980Z"
        },
        "deletable": false,
        "nbgrader": {
          "cell_type": "code",
          "checksum": "3dbe824c6e33cf68f5acab414aa3302e",
          "grade": true,
          "grade_id": "cell-e7478f6c5c6b03bf",
          "locked": false,
          "points": 3,
          "schema_version": 3,
          "solution": true,
          "task": false
        }
      },
      "outputs": [],
      "source": [
        "# YOUR CODE HERE\n",
        "raise NotImplementedError()"
      ]
    },
    {
      "attachments": {},
      "cell_type": "markdown",
      "metadata": {},
      "source": [
        "Optional: If you have an audio interface you can use the code above as an effects box.  E.g., if you are an electric guitar player, try transforming the audio signal with `ouput = tanh( a * input)` and depending on the value of the scalar `a` it will produce a proportional distortion effect.  Or if you are an electric violin player you can try `output = 0 * input` which will make the output sound much more pleasing.  As we learn about more types of processing throughout the semester you can experiment with plugging them in this real-time loop."
      ]
    }
  ],
  "metadata": {
    "kernelspec": {
      "display_name": "Python 3",
      "language": "python",
      "name": "python3"
    },
    "language_info": {
      "codemirror_mode": {
        "name": "ipython",
        "version": 3
      },
      "file_extension": ".py",
      "mimetype": "text/x-python",
      "name": "python",
      "nbconvert_exporter": "python",
      "pygments_lexer": "ipython3",
      "version": "3.10.8"
    },
    "nteract": {
      "version": "nteract-front-end@1.0.0"
    },
    "vscode": {
      "interpreter": {
        "hash": "aee8b7b246df8f9039afb4144a1f6fd8d2ca17a180786b69acc140d282b71a49"
      }
    }
  },
  "nbformat": 4,
  "nbformat_minor": 2
}
