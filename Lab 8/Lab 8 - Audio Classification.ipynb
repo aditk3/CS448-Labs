{
  "cells": [
    {
      "attachments": {},
      "cell_type": "markdown",
      "metadata": {
        "deletable": false,
        "editable": false,
        "nbgrader": {
          "cell_type": "markdown",
          "checksum": "3a2d69266e438dc5ff367df299a78730",
          "grade": false,
          "grade_id": "cell-cad022ce18ee41e4",
          "locked": true,
          "schema_version": 3,
          "solution": false,
          "task": false
        }
      },
      "source": [
        "# CS448 - Lab 8: Audio Classification "
      ]
    },
    {
      "cell_type": "code",
      "execution_count": 1,
      "metadata": {},
      "outputs": [],
      "source": [
        "### IMPORTS & SETUP ###\n",
        "\n",
        "import os\n",
        "import random\n",
        "\n",
        "import matplotlib.pyplot as plt\n",
        "plt.rcParams[\"figure.figsize\"] = (6, 3)\n",
        "\n",
        "import numpy as np\n",
        "\n",
        "from scipy.io import wavfile\n",
        "\n",
        "from sklearn.model_selection import train_test_split as tts\n",
        "from sklearn.mixture import GaussianMixture as  GMM\n",
        "\n",
        "import librosa\n",
        "\n",
        "DRAW_GRAPHS = True"
      ]
    },
    {
      "cell_type": "code",
      "execution_count": 2,
      "metadata": {},
      "outputs": [],
      "source": [
        "# STFT from Lab 1\n",
        "def stft(input_sound, dft_size, hop_size, zero_pad, window):\n",
        "    # Creating the n-1 frames\n",
        "    frames = []\n",
        "    idx = 0\n",
        "    for idx in range(0, len(input_sound) - dft_size, hop_size):\n",
        "        frames.append(np.multiply(input_sound[idx : idx + dft_size], window))\n",
        "    idx += hop_size\n",
        "\n",
        "    # Creating the last frame accounting for padding\n",
        "    last_frame = np.multiply(\n",
        "        np.append(input_sound[idx:-1], np.zeros(idx + dft_size - len(input_sound) + 1)),\n",
        "        window,\n",
        "    )\n",
        "    frames.append(last_frame)\n",
        "\n",
        "    # Convert to numpy array\n",
        "    frames = np.array(frames, dtype=float)\n",
        "\n",
        "    # Compute the DFT of each frame\n",
        "    dft_frames = np.fft.rfft(frames, dft_size + zero_pad)\n",
        "    return dft_frames\n",
        "\n",
        "\n",
        "# ISTFT from Lab 1\n",
        "def istft(stft_output, dft_size, hop_size, zero_pad):\n",
        "    # Initializing the signal length\n",
        "    signal_length = (stft_output.shape[0] * hop_size) + dft_size + zero_pad\n",
        "    signal = np.zeros(signal_length)\n",
        "\n",
        "    for i in range(stft_output.shape[0]):\n",
        "        original_signal = np.fft.irfft(stft_output[i, :], dft_size + zero_pad)\n",
        "        start = i * hop_size\n",
        "        end = start + original_signal.shape[0]\n",
        "        signal[start:end] += original_signal\n",
        "\n",
        "    return signal\n",
        "\n",
        "\n",
        "# STFT parameters\n",
        "DFT_SIZE = 1024\n",
        "HOP_SIZE = DFT_SIZE // 4\n",
        "ZERO_PAD = 0\n",
        "WINDOW = np.hanning(DFT_SIZE)"
      ]
    },
    {
      "cell_type": "markdown",
      "metadata": {
        "deletable": false,
        "editable": false,
        "nbgrader": {
          "cell_type": "markdown",
          "checksum": "b455130b72ffb37275f09743824b7b93",
          "grade": false,
          "grade_id": "cell-de39fbc2436b23e5",
          "locked": true,
          "schema_version": 3,
          "solution": false,
          "task": false
        }
      },
      "source": [
        "## Part 1: Making a speech detector"
      ]
    },
    {
      "attachments": {},
      "cell_type": "markdown",
      "metadata": {
        "deletable": false,
        "editable": false,
        "nbgrader": {
          "cell_type": "markdown",
          "checksum": "8e6bdc6e62576f57eebd1cbeb704ef88",
          "grade": false,
          "grade_id": "cell-2aa6f72c371ee5fd",
          "locked": true,
          "schema_version": 3,
          "solution": false,
          "task": false
        }
      },
      "source": [
        "In this section we will design a simple classifier that will let us know if its input is speech or non-speech. Download the data archive from: [ https://drive.google.com/file/d/1Z8tj-HHQCvT54Mr20Dc1UfV48SPY449r/view ] In this part we will use the dataset in data/SpeechMusic. In it you will find two directories, speech/ and music/ containing data from each class.\n",
        "\n",
        "Randomly select 50 soundfiles from each directory to use as training data, and use the remaining sounds as testing data. For all of the sounds we will compute a representation that makes the classification easier and we will use a simple Gaussian model to classify them. Do the following:\n",
        "\n",
        "- Perform an STFT for each sound, take it’s magnitude and raise it to 0.3 to improve contrast\n",
        "    - We will consider each spectral slice of that to be a data point\n",
        "- Using the training data of each sound:\n",
        "    - Calculate the mean column and the diagonal covariance of the columns\n",
        "    - You will thus get two sets of Gaussian parameters that model each sound class\n",
        "- For each testing data point:\n",
        "    - Calculate the likelihood of each column based on the above models\n",
        "\t- To calculate the entire file likelihood add all the frame likelihoods\n",
        "\t- Assign each soundfile to the class that gets the highest likelihood\n",
        "\n",
        "For extra credit implement the parameter estimation and model likelihood yourself. If you are too lazy for that you can instead use ```sklearn.mixture.GaussianMixture``` to learn a diagonal single-Gaussian model per class.\n",
        "\n",
        "How do the results look like? If you rerun this with a different training/testing set, is there an appreciable difference? On average over multiple training/testing sets what accuracy do you get?"
      ]
    },
    {
      "cell_type": "code",
      "execution_count": 3,
      "metadata": {},
      "outputs": [],
      "source": [
        "# Determine which files to use\n",
        "path = \"./data/SpeechMusic\"\n",
        "music_stfts = []\n",
        "speech_stfts = []\n",
        "\n",
        "for fname in os.listdir(path + \"/music\"):\n",
        "    fs, data = wavfile.read(path + \"/music/\" + fname)\n",
        "\n",
        "    # Perform an STFT for each sound, take it's magnitude and\n",
        "    # raise it to 0.3 to improve contrast\n",
        "    data_stft = stft(data, DFT_SIZE, HOP_SIZE, ZERO_PAD, WINDOW)\n",
        "    music_stfts.append(np.abs(data_stft) ** 0.3)\n",
        "    \n",
        "for fname in os.listdir(path + \"/speech\"):\n",
        "    fs, data = wavfile.read(path + \"/speech/\" + fname)\n",
        "\n",
        "    # Perform an STFT for each sound, take it's magnitude and\n",
        "    # raise it to 0.3 to improve contrast\n",
        "    data_stft = stft(data, DFT_SIZE, HOP_SIZE, ZERO_PAD, WINDOW)\n",
        "    speech_stfts.append(np.abs(data_stft) ** 0.3)"
      ]
    },
    {
      "cell_type": "code",
      "execution_count": 4,
      "metadata": {},
      "outputs": [
        {
          "name": "stdout",
          "output_type": "stream",
          "text": [
            "Random State: 100 Correct: 17 Test Size: 20 Accuracy: 0.85\n",
            "Random State: 85 Correct: 19 Test Size: 20 Accuracy: 0.95\n",
            "Random State: 85 Correct: 19 Test Size: 20 Accuracy: 0.95\n",
            "Random State: 36 Correct: 19 Test Size: 20 Accuracy: 0.95\n",
            "Random State: 49 Correct: 19 Test Size: 20 Accuracy: 0.95\n"
          ]
        }
      ],
      "source": [
        "for i in range(5):\n",
        "    random_state = random.randint(0, 100)\n",
        "    speech_train, speech_test, music_train, music_test = tts(\n",
        "        speech_stfts, music_stfts, train_size=50, random_state=random_state\n",
        "    )\n",
        "\n",
        "    temp = []\n",
        "    for speech in speech_train:\n",
        "        temp.extend(speech)\n",
        "    speech_train = temp\n",
        "\n",
        "    temp = []\n",
        "    for music in music_train:\n",
        "        temp.extend(music)\n",
        "    music_train = temp\n",
        "\n",
        "    speech_gm = GMM(5, covariance_type=\"diag\").fit(speech_train)\n",
        "    music_gm = GMM(5, covariance_type=\"diag\").fit(music_train)\n",
        "\n",
        "    speech_correct = sum(\n",
        "        speech_gm.score(speech) > music_gm.score(speech) for speech in speech_test\n",
        "    )\n",
        "    music_correct = sum(\n",
        "        speech_gm.score(music) < music_gm.score(music) for music in music_test\n",
        "    )\n",
        "    total_correct = speech_correct + music_correct\n",
        "    accuracy = total_correct / (len(speech_test) + len(music_test))\n",
        "\n",
        "    print(\n",
        "        \"Random State:\",\n",
        "        random_state,\n",
        "        \"Correct:\",\n",
        "        total_correct,\n",
        "        \"Test Size:\",\n",
        "        (len(speech_test) + len(music_test)),\n",
        "        \"Accuracy:\",\n",
        "        accuracy,\n",
        "    )\n"
      ]
    },
    {
      "attachments": {},
      "cell_type": "markdown",
      "metadata": {},
      "source": [
        "### Conclusions\n",
        "I ran the predictions around 15 times and the results were always in the range 0.85-0.95."
      ]
    },
    {
      "cell_type": "markdown",
      "metadata": {
        "deletable": false,
        "editable": false,
        "nbgrader": {
          "cell_type": "markdown",
          "checksum": "06bbd01450e6b4e79e1e797eed004eb9",
          "grade": false,
          "grade_id": "cell-ea09b70a28708831",
          "locked": true,
          "schema_version": 3,
          "solution": false,
          "task": false
        }
      },
      "source": [
        "## Part 2: Making a music genre classifier"
      ]
    },
    {
      "attachments": {},
      "cell_type": "markdown",
      "metadata": {
        "deletable": false,
        "editable": false,
        "nbgrader": {
          "cell_type": "markdown",
          "checksum": "269037d2526644f0210bef91b148f92c",
          "grade": false,
          "grade_id": "cell-b577ec2dbb637ab9",
          "locked": true,
          "schema_version": 3,
          "solution": false,
          "task": false
        }
      },
      "source": [
        "We will repeat the above, but this time we will perform music genre classification. To do so we will use a slightly more elaborate feature representation, and a stronger classification model. If you downloaded the data archive pointed to above, you will find a subset of the CTZAN dataset in the data/genre folder, this is a benchmark data set for music genre classification.\n",
        "\n",
        "Just as before, you will find a set of directories with examples of each sound class that we want to recognize. For each class, split the soundfiles into a training set (50% of data) and testing set (remaining 50% of data).\n",
        "\n",
        "For a representation we will use MFCC features. For extra credit, code these yourself otherwise you can use the implementation from the ```librosa``` library. Once all the files are transformed we will have a series of MFCC frames for each recording (as opposed to spectral frames as is in the case of the STFT). We will use these as the data to classify.\n",
        "\n",
        "For each class learn a Gaussian model (with a diagonal covariance again). This will be the same process as above.\n",
        "In order to evaluate how good this works we will use the following procedure. For each sound in the training data, get the likelihood of each MFCC frame based on the learned Gaussian models and sum these over the entire file just as we did before. Use the resulting values to get a classification result for each . Report how accurate your results are. Now report the accuracy using your testing data instead.\n",
        "\n",
        "Now will use a better classifier to hopefully get better accuracy. We will use a Gaussian Mixture Model (```sklearn.mixture.GaussianMixture```). Just as before you should learn one such model for each class using the corresponding training data.\n",
        "\n",
        "How many Gaussians do you need in your GMM to get the best results? Do the MFCC parameters make a difference? Play around with the numbers to get the best possible results.  You should be able to get at least 70% accuracy on average."
      ]
    },
    {
      "cell_type": "code",
      "execution_count": 7,
      "metadata": {
        "deletable": false,
        "nbgrader": {
          "cell_type": "code",
          "checksum": "24f1bd9efdb18646cfb6372f1748c878",
          "grade": true,
          "grade_id": "cell-1f20306aee8e6f97",
          "locked": false,
          "points": 3,
          "schema_version": 3,
          "solution": true,
          "task": false
        }
      },
      "outputs": [
        {
          "ename": "SystemError",
          "evalue": "initialization of _internal failed without raising an exception",
          "output_type": "error",
          "traceback": [
            "\u001b[0;31m---------------------------------------------------------------------------\u001b[0m",
            "\u001b[0;31mSystemError\u001b[0m                               Traceback (most recent call last)",
            "Cell \u001b[0;32mIn[7], line 9\u001b[0m\n\u001b[1;32m      6\u001b[0m         mfccs\u001b[39m.\u001b[39mappend(mfcc)\n\u001b[1;32m      7\u001b[0m     \u001b[39mreturn\u001b[39;00m mfccs\n\u001b[0;32m----> 9\u001b[0m \u001b[39mprint\u001b[39m(\u001b[39mlen\u001b[39m(get_mfccs(\u001b[39m'\u001b[39;49m\u001b[39mclassical\u001b[39;49m\u001b[39m'\u001b[39;49m)))\n",
            "Cell \u001b[0;32mIn[7], line 4\u001b[0m, in \u001b[0;36mget_mfccs\u001b[0;34m(dir)\u001b[0m\n\u001b[1;32m      2\u001b[0m mfccs \u001b[39m=\u001b[39m []\n\u001b[1;32m      3\u001b[0m \u001b[39mfor\u001b[39;00m fname \u001b[39min\u001b[39;00m os\u001b[39m.\u001b[39mlistdir(\u001b[39m\"\u001b[39m\u001b[39m./data/genres/\u001b[39m\u001b[39m\"\u001b[39m\u001b[39m+\u001b[39m\u001b[39mdir\u001b[39m):\n\u001b[0;32m----> 4\u001b[0m     data, fs \u001b[39m=\u001b[39m librosa\u001b[39m.\u001b[39;49mcore\u001b[39m.\u001b[39;49mload(\u001b[39m\"\u001b[39m\u001b[39m./data/genres/\u001b[39m\u001b[39m\"\u001b[39m\u001b[39m+\u001b[39m\u001b[39mdir\u001b[39m\u001b[39m+\u001b[39m\u001b[39m\"\u001b[39m\u001b[39m/\u001b[39m\u001b[39m\"\u001b[39m\u001b[39m+\u001b[39mfname)\n\u001b[1;32m      5\u001b[0m     mfcc \u001b[39m=\u001b[39m np\u001b[39m.\u001b[39marray(librosa\u001b[39m.\u001b[39mfeature\u001b[39m.\u001b[39mmfcc(y\u001b[39m=\u001b[39mnp\u001b[39m.\u001b[39marray(data), sr\u001b[39m=\u001b[39mfs, n_mfcc\u001b[39m=\u001b[39m\u001b[39m60\u001b[39m))\n\u001b[1;32m      6\u001b[0m     mfccs\u001b[39m.\u001b[39mappend(mfcc)\n",
            "File \u001b[0;32m~/.local/lib/python3.8/site-packages/lazy_loader/__init__.py:76\u001b[0m, in \u001b[0;36mattach.<locals>.__getattr__\u001b[0;34m(name)\u001b[0m\n\u001b[1;32m     74\u001b[0m \u001b[39melif\u001b[39;00m name \u001b[39min\u001b[39;00m attr_to_modules:\n\u001b[1;32m     75\u001b[0m     submod_path \u001b[39m=\u001b[39m \u001b[39mf\u001b[39m\u001b[39m\"\u001b[39m\u001b[39m{\u001b[39;00mpackage_name\u001b[39m}\u001b[39;00m\u001b[39m.\u001b[39m\u001b[39m{\u001b[39;00mattr_to_modules[name]\u001b[39m}\u001b[39;00m\u001b[39m\"\u001b[39m\n\u001b[0;32m---> 76\u001b[0m     submod \u001b[39m=\u001b[39m importlib\u001b[39m.\u001b[39;49mimport_module(submod_path)\n\u001b[1;32m     77\u001b[0m     attr \u001b[39m=\u001b[39m \u001b[39mgetattr\u001b[39m(submod, name)\n\u001b[1;32m     79\u001b[0m     \u001b[39m# If the attribute lives in a file (module) with the same\u001b[39;00m\n\u001b[1;32m     80\u001b[0m     \u001b[39m# name as the attribute, ensure that the attribute and *not*\u001b[39;00m\n\u001b[1;32m     81\u001b[0m     \u001b[39m# the module is accessible on the package.\u001b[39;00m\n",
            "File \u001b[0;32m/usr/lib/python3.8/importlib/__init__.py:127\u001b[0m, in \u001b[0;36mimport_module\u001b[0;34m(name, package)\u001b[0m\n\u001b[1;32m    125\u001b[0m             \u001b[39mbreak\u001b[39;00m\n\u001b[1;32m    126\u001b[0m         level \u001b[39m+\u001b[39m\u001b[39m=\u001b[39m \u001b[39m1\u001b[39m\n\u001b[0;32m--> 127\u001b[0m \u001b[39mreturn\u001b[39;00m _bootstrap\u001b[39m.\u001b[39;49m_gcd_import(name[level:], package, level)\n",
            "File \u001b[0;32m<frozen importlib._bootstrap>:1014\u001b[0m, in \u001b[0;36m_gcd_import\u001b[0;34m(name, package, level)\u001b[0m\n",
            "File \u001b[0;32m<frozen importlib._bootstrap>:991\u001b[0m, in \u001b[0;36m_find_and_load\u001b[0;34m(name, import_)\u001b[0m\n",
            "File \u001b[0;32m<frozen importlib._bootstrap>:975\u001b[0m, in \u001b[0;36m_find_and_load_unlocked\u001b[0;34m(name, import_)\u001b[0m\n",
            "File \u001b[0;32m<frozen importlib._bootstrap>:671\u001b[0m, in \u001b[0;36m_load_unlocked\u001b[0;34m(spec)\u001b[0m\n",
            "File \u001b[0;32m<frozen importlib._bootstrap_external>:848\u001b[0m, in \u001b[0;36mexec_module\u001b[0;34m(self, module)\u001b[0m\n",
            "File \u001b[0;32m<frozen importlib._bootstrap>:219\u001b[0m, in \u001b[0;36m_call_with_frames_removed\u001b[0;34m(f, *args, **kwds)\u001b[0m\n",
            "File \u001b[0;32m~/.local/lib/python3.8/site-packages/librosa/core/audio.py:17\u001b[0m\n\u001b[1;32m     14\u001b[0m \u001b[39mimport\u001b[39;00m \u001b[39msoxr\u001b[39;00m\n\u001b[1;32m     15\u001b[0m \u001b[39mimport\u001b[39;00m \u001b[39mlazy_loader\u001b[39;00m \u001b[39mas\u001b[39;00m \u001b[39mlazy\u001b[39;00m\n\u001b[0;32m---> 17\u001b[0m \u001b[39mfrom\u001b[39;00m \u001b[39mnumba\u001b[39;00m \u001b[39mimport\u001b[39;00m jit, stencil, guvectorize\n\u001b[1;32m     18\u001b[0m \u001b[39mfrom\u001b[39;00m \u001b[39m.\u001b[39;00m\u001b[39mfft\u001b[39;00m \u001b[39mimport\u001b[39;00m get_fftlib\n\u001b[1;32m     19\u001b[0m \u001b[39mfrom\u001b[39;00m \u001b[39m.\u001b[39;00m\u001b[39mconvert\u001b[39;00m \u001b[39mimport\u001b[39;00m frames_to_samples, time_to_samples\n",
            "File \u001b[0;32m~/.local/lib/python3.8/site-packages/numba/__init__.py:42\u001b[0m\n\u001b[1;32m     38\u001b[0m \u001b[39mfrom\u001b[39;00m \u001b[39mnumba\u001b[39;00m\u001b[39m.\u001b[39;00m\u001b[39mcore\u001b[39;00m\u001b[39m.\u001b[39;00m\u001b[39mdecorators\u001b[39;00m \u001b[39mimport\u001b[39;00m (cfunc, generated_jit, jit, njit, stencil,\n\u001b[1;32m     39\u001b[0m                                    jit_module)\n\u001b[1;32m     41\u001b[0m \u001b[39m# Re-export vectorize decorators and the thread layer querying function\u001b[39;00m\n\u001b[0;32m---> 42\u001b[0m \u001b[39mfrom\u001b[39;00m \u001b[39mnumba\u001b[39;00m\u001b[39m.\u001b[39;00m\u001b[39mnp\u001b[39;00m\u001b[39m.\u001b[39;00m\u001b[39mufunc\u001b[39;00m \u001b[39mimport\u001b[39;00m (vectorize, guvectorize, threading_layer,\n\u001b[1;32m     43\u001b[0m                             get_num_threads, set_num_threads,\n\u001b[1;32m     44\u001b[0m                             set_parallel_chunksize, get_parallel_chunksize,\n\u001b[1;32m     45\u001b[0m                             get_thread_id)\n\u001b[1;32m     47\u001b[0m \u001b[39m# Re-export Numpy helpers\u001b[39;00m\n\u001b[1;32m     48\u001b[0m \u001b[39mfrom\u001b[39;00m \u001b[39mnumba\u001b[39;00m\u001b[39m.\u001b[39;00m\u001b[39mnp\u001b[39;00m\u001b[39m.\u001b[39;00m\u001b[39mnumpy_support\u001b[39;00m \u001b[39mimport\u001b[39;00m carray, farray, from_dtype\n",
            "File \u001b[0;32m~/.local/lib/python3.8/site-packages/numba/np/ufunc/__init__.py:3\u001b[0m\n\u001b[1;32m      1\u001b[0m \u001b[39m# -*- coding: utf-8 -*-\u001b[39;00m\n\u001b[0;32m----> 3\u001b[0m \u001b[39mfrom\u001b[39;00m \u001b[39mnumba\u001b[39;00m\u001b[39m.\u001b[39;00m\u001b[39mnp\u001b[39;00m\u001b[39m.\u001b[39;00m\u001b[39mufunc\u001b[39;00m\u001b[39m.\u001b[39;00m\u001b[39mdecorators\u001b[39;00m \u001b[39mimport\u001b[39;00m Vectorize, GUVectorize, vectorize, guvectorize\n\u001b[1;32m      4\u001b[0m \u001b[39mfrom\u001b[39;00m \u001b[39mnumba\u001b[39;00m\u001b[39m.\u001b[39;00m\u001b[39mnp\u001b[39;00m\u001b[39m.\u001b[39;00m\u001b[39mufunc\u001b[39;00m\u001b[39m.\u001b[39;00m\u001b[39m_internal\u001b[39;00m \u001b[39mimport\u001b[39;00m PyUFunc_None, PyUFunc_Zero, PyUFunc_One\n\u001b[1;32m      5\u001b[0m \u001b[39mfrom\u001b[39;00m \u001b[39mnumba\u001b[39;00m\u001b[39m.\u001b[39;00m\u001b[39mnp\u001b[39;00m\u001b[39m.\u001b[39;00m\u001b[39mufunc\u001b[39;00m \u001b[39mimport\u001b[39;00m _internal, array_exprs\n",
            "File \u001b[0;32m~/.local/lib/python3.8/site-packages/numba/np/ufunc/decorators.py:3\u001b[0m\n\u001b[1;32m      1\u001b[0m \u001b[39mimport\u001b[39;00m \u001b[39minspect\u001b[39;00m\n\u001b[0;32m----> 3\u001b[0m \u001b[39mfrom\u001b[39;00m \u001b[39mnumba\u001b[39;00m\u001b[39m.\u001b[39;00m\u001b[39mnp\u001b[39;00m\u001b[39m.\u001b[39;00m\u001b[39mufunc\u001b[39;00m \u001b[39mimport\u001b[39;00m _internal\n\u001b[1;32m      4\u001b[0m \u001b[39mfrom\u001b[39;00m \u001b[39mnumba\u001b[39;00m\u001b[39m.\u001b[39;00m\u001b[39mnp\u001b[39;00m\u001b[39m.\u001b[39;00m\u001b[39mufunc\u001b[39;00m\u001b[39m.\u001b[39;00m\u001b[39mparallel\u001b[39;00m \u001b[39mimport\u001b[39;00m ParallelUFuncBuilder, ParallelGUFuncBuilder\n\u001b[1;32m      6\u001b[0m \u001b[39mfrom\u001b[39;00m \u001b[39mnumba\u001b[39;00m\u001b[39m.\u001b[39;00m\u001b[39mcore\u001b[39;00m\u001b[39m.\u001b[39;00m\u001b[39mregistry\u001b[39;00m \u001b[39mimport\u001b[39;00m DelayedRegistry\n",
            "\u001b[0;31mSystemError\u001b[0m: initialization of _internal failed without raising an exception"
          ]
        }
      ],
      "source": [
        "def get_mfccs(dir):\n",
        "    mfccs = []\n",
        "    for fname in os.listdir(\"./data/genres/\"+dir):\n",
        "        data, fs = librosa.core.load(\"./data/genres/\"+dir+\"/\"+fname)\n",
        "        mfcc = np.array(librosa.feature.mfcc(y=np.array(data), sr=fs, n_mfcc=60))\n",
        "        mfccs.append(mfcc)\n",
        "    return mfccs\n",
        "\n",
        "print(len(get_mfccs('classical')))"
      ]
    },
    {
      "cell_type": "markdown",
      "metadata": {
        "deletable": false,
        "editable": false,
        "nbgrader": {
          "cell_type": "markdown",
          "checksum": "ed704c16a51ce2ee6a7765a36b0bcc1d",
          "grade": false,
          "grade_id": "cell-0366f48ef1511eb0",
          "locked": true,
          "schema_version": 3,
          "solution": false,
          "task": false
        }
      },
      "source": [
        "## Part 3: Make it better (extra credit, required for 4-hour registrants)"
      ]
    },
    {
      "cell_type": "markdown",
      "metadata": {
        "deletable": false,
        "editable": false,
        "nbgrader": {
          "cell_type": "markdown",
          "checksum": "b5c3fcfa38c9061e0c3c36080310de8f",
          "grade": false,
          "grade_id": "cell-ee7356244c540bcc",
          "locked": true,
          "schema_version": 3,
          "solution": false,
          "task": false
        }
      },
      "source": [
        "There is no shortage of techniques (and free code) to use for classification. Revisit the two problems above and use any other type of classifier you want (Neural Nets, Boosting, Decision Trees, whatever). Also feel free to use any feature you want. Can you improve on the results you got before? How much higher can you get your accuracy for either case?"
      ]
    },
    {
      "cell_type": "code",
      "execution_count": null,
      "metadata": {
        "deletable": false,
        "nbgrader": {
          "cell_type": "code",
          "checksum": "d6ce280f53f8d615656d2c91be53d297",
          "grade": true,
          "grade_id": "cell-b5bfb3525df0e1de",
          "locked": false,
          "points": 3,
          "schema_version": 3,
          "solution": true,
          "task": false
        }
      },
      "outputs": [],
      "source": [
        "# YOUR CODE HERE\n",
        "raise NotImplementedError()"
      ]
    }
  ],
  "metadata": {
    "kernelspec": {
      "display_name": "Python 3",
      "language": "python",
      "name": "python3"
    },
    "language_info": {
      "codemirror_mode": {
        "name": "ipython",
        "version": 3
      },
      "file_extension": ".py",
      "mimetype": "text/x-python",
      "name": "python",
      "nbconvert_exporter": "python",
      "pygments_lexer": "ipython3",
      "version": "3.8.10"
    },
    "nteract": {
      "version": "0.28.0"
    },
    "vscode": {
      "interpreter": {
        "hash": "916dbcbb3f70747c44a77c7bcd40155683ae19c65e1c03b4aa3499c5328201f1"
      }
    }
  },
  "nbformat": 4,
  "nbformat_minor": 2
}
